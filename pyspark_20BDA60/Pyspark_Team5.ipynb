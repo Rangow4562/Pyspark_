{
 "cells": [
  {
   "cell_type": "markdown",
   "metadata": {},
   "source": [
    "## Pyspark Assignment\n",
    "### <i> Group 13 </i>"
   ]
  },
  {
   "cell_type": "markdown",
   "metadata": {},
   "source": [
    "### Food\n",
    "\n",
    "##### i.Extract:  Load the data\n",
    "   - Read data as csv via spark dataframe\n",
    "\n",
    "##### ii.Transform: Exploratory data analysis using spark df\n",
    "    - Unique records count\n",
    "    - select columns GPA\tGender\tbreakfast\tcalories_chicken\tcalories_day\tcalories_scone\tcoffee type_sports\n",
    "    - handling nan -> replace with 0 for numerical columns and Others in categorical columns\n",
    "    - Replace - Gender -> 1 to M and 2 to F\n",
    "    - Update : Normalize GPA column - normalized  v = v - min(GPA)/max(GPA)-min(GPA)\n",
    "    - show schema\n",
    "    - show all df\n",
    "    - GroupBy type_sport and sum of cofee\n",
    "\n",
    "##### iii.Load: Save analysis report\n",
    "    - show all df, save as files"
   ]
  },
  {
   "cell_type": "code",
   "execution_count": 23,
   "metadata": {},
   "outputs": [],
   "source": [
    "# Importing necessary libraries\n",
    "import os\n",
    "import spark\n",
    "from pyspark import SparkConf,SparkContext\n",
    "from pyspark.sql import SparkSession, types\n",
    "from pyspark.sql.types import StringType\n",
    "from pyspark.sql.functions import regexp_replace, split, explode, struct, col, concat, lit, when\n",
    "import pandas as pd\n",
    "from pyspark.sql.types import DoubleType"
   ]
  },
  {
   "cell_type": "code",
   "execution_count": 2,
   "metadata": {},
   "outputs": [],
   "source": [
    "os.environ['PYSPARK SUBMIT ARGS'] = \" --master local[2] pyspark-shell\"\n",
    "os.environ['JAVA_HOME'] = 'C:/Program Files/Java/jdk1.8.0_231'"
   ]
  },
  {
   "cell_type": "code",
   "execution_count": 3,
   "metadata": {},
   "outputs": [
    {
     "name": "stdout",
     "output_type": "stream",
     "text": [
      "<SparkContext master=local appName=test>\n",
      "<pyspark.sql.session.SparkSession object at 0x0000025596001400>\n"
     ]
    }
   ],
   "source": [
    "conf = SparkConf().setAppName(\"test\").setMaster(\"local\")\n",
    "sc = SparkContext(conf=conf)\n",
    "spark = SparkSession(sc)\n",
    "print(sc)\n",
    "print(spark)"
   ]
  },
  {
   "cell_type": "markdown",
   "metadata": {},
   "source": [
    "#### 1. Load Data"
   ]
  },
  {
   "cell_type": "code",
   "execution_count": 4,
   "metadata": {},
   "outputs": [],
   "source": [
    "df = pd.read_csv(\"C:/Users/Abhijith P K/OneDrive/Desktop/Food/food_coded.csv\")"
   ]
  },
  {
   "cell_type": "code",
   "execution_count": 5,
   "metadata": {},
   "outputs": [
    {
     "data": {
      "text/html": [
       "<div>\n",
       "<style scoped>\n",
       "    .dataframe tbody tr th:only-of-type {\n",
       "        vertical-align: middle;\n",
       "    }\n",
       "\n",
       "    .dataframe tbody tr th {\n",
       "        vertical-align: top;\n",
       "    }\n",
       "\n",
       "    .dataframe thead th {\n",
       "        text-align: right;\n",
       "    }\n",
       "</style>\n",
       "<table border=\"1\" class=\"dataframe\">\n",
       "  <thead>\n",
       "    <tr style=\"text-align: right;\">\n",
       "      <th></th>\n",
       "      <th>GPA</th>\n",
       "      <th>Gender</th>\n",
       "      <th>breakfast</th>\n",
       "      <th>calories_chicken</th>\n",
       "      <th>calories_day</th>\n",
       "      <th>calories_scone</th>\n",
       "      <th>coffee</th>\n",
       "      <th>comfort_food</th>\n",
       "      <th>comfort_food_reasons</th>\n",
       "      <th>comfort_food_reasons_coded</th>\n",
       "      <th>...</th>\n",
       "      <th>soup</th>\n",
       "      <th>sports</th>\n",
       "      <th>thai_food</th>\n",
       "      <th>tortilla_calories</th>\n",
       "      <th>turkey_calories</th>\n",
       "      <th>type_sports</th>\n",
       "      <th>veggies_day</th>\n",
       "      <th>vitamins</th>\n",
       "      <th>waffle_calories</th>\n",
       "      <th>weight</th>\n",
       "    </tr>\n",
       "  </thead>\n",
       "  <tbody>\n",
       "    <tr>\n",
       "      <th>0</th>\n",
       "      <td>2.400</td>\n",
       "      <td>2</td>\n",
       "      <td>1</td>\n",
       "      <td>430</td>\n",
       "      <td>NaN</td>\n",
       "      <td>315.0</td>\n",
       "      <td>1</td>\n",
       "      <td>none</td>\n",
       "      <td>we dont have comfort</td>\n",
       "      <td>9.0</td>\n",
       "      <td>...</td>\n",
       "      <td>1.0</td>\n",
       "      <td>1.0</td>\n",
       "      <td>1</td>\n",
       "      <td>1165.0</td>\n",
       "      <td>345</td>\n",
       "      <td>car racing</td>\n",
       "      <td>5</td>\n",
       "      <td>1</td>\n",
       "      <td>1315</td>\n",
       "      <td>187</td>\n",
       "    </tr>\n",
       "    <tr>\n",
       "      <th>1</th>\n",
       "      <td>3.654</td>\n",
       "      <td>1</td>\n",
       "      <td>1</td>\n",
       "      <td>610</td>\n",
       "      <td>3.0</td>\n",
       "      <td>420.0</td>\n",
       "      <td>2</td>\n",
       "      <td>chocolate, chips, ice cream</td>\n",
       "      <td>Stress, bored, anger</td>\n",
       "      <td>1.0</td>\n",
       "      <td>...</td>\n",
       "      <td>1.0</td>\n",
       "      <td>1.0</td>\n",
       "      <td>2</td>\n",
       "      <td>725.0</td>\n",
       "      <td>690</td>\n",
       "      <td>Basketball</td>\n",
       "      <td>4</td>\n",
       "      <td>2</td>\n",
       "      <td>900</td>\n",
       "      <td>155</td>\n",
       "    </tr>\n",
       "    <tr>\n",
       "      <th>2</th>\n",
       "      <td>3.200</td>\n",
       "      <td>1</td>\n",
       "      <td>1</td>\n",
       "      <td>430</td>\n",
       "      <td>3.0</td>\n",
       "      <td>420.0</td>\n",
       "      <td>2</td>\n",
       "      <td>Pizza, Mac and cheese, ice cream</td>\n",
       "      <td>Boredom</td>\n",
       "      <td>2.0</td>\n",
       "      <td>...</td>\n",
       "      <td>1.0</td>\n",
       "      <td>2.0</td>\n",
       "      <td>5</td>\n",
       "      <td>725.0</td>\n",
       "      <td>690</td>\n",
       "      <td>NaN</td>\n",
       "      <td>3</td>\n",
       "      <td>1</td>\n",
       "      <td>1315</td>\n",
       "      <td>Not sure, 240</td>\n",
       "    </tr>\n",
       "    <tr>\n",
       "      <th>3</th>\n",
       "      <td>3.500</td>\n",
       "      <td>1</td>\n",
       "      <td>1</td>\n",
       "      <td>720</td>\n",
       "      <td>2.0</td>\n",
       "      <td>420.0</td>\n",
       "      <td>2</td>\n",
       "      <td>Ice cream, chocolate, chips</td>\n",
       "      <td>Stress, boredom, cravings</td>\n",
       "      <td>1.0</td>\n",
       "      <td>...</td>\n",
       "      <td>1.0</td>\n",
       "      <td>1.0</td>\n",
       "      <td>4</td>\n",
       "      <td>940.0</td>\n",
       "      <td>500</td>\n",
       "      <td>Softball</td>\n",
       "      <td>4</td>\n",
       "      <td>2</td>\n",
       "      <td>760</td>\n",
       "      <td>190</td>\n",
       "    </tr>\n",
       "    <tr>\n",
       "      <th>4</th>\n",
       "      <td>2.250</td>\n",
       "      <td>1</td>\n",
       "      <td>1</td>\n",
       "      <td>610</td>\n",
       "      <td>3.0</td>\n",
       "      <td>980.0</td>\n",
       "      <td>2</td>\n",
       "      <td>Candy, brownies and soda.</td>\n",
       "      <td>None, i don't eat comfort food. I just eat whe...</td>\n",
       "      <td>4.0</td>\n",
       "      <td>...</td>\n",
       "      <td>1.0</td>\n",
       "      <td>2.0</td>\n",
       "      <td>4</td>\n",
       "      <td>940.0</td>\n",
       "      <td>345</td>\n",
       "      <td>None.</td>\n",
       "      <td>1</td>\n",
       "      <td>2</td>\n",
       "      <td>1315</td>\n",
       "      <td>190</td>\n",
       "    </tr>\n",
       "    <tr>\n",
       "      <th>5</th>\n",
       "      <td>3.800</td>\n",
       "      <td>2</td>\n",
       "      <td>1</td>\n",
       "      <td>610</td>\n",
       "      <td>3.0</td>\n",
       "      <td>420.0</td>\n",
       "      <td>2</td>\n",
       "      <td>Chocolate, ice cream, french fries, pretzels</td>\n",
       "      <td>stress, boredom</td>\n",
       "      <td>1.0</td>\n",
       "      <td>...</td>\n",
       "      <td>1.0</td>\n",
       "      <td>1.0</td>\n",
       "      <td>5</td>\n",
       "      <td>940.0</td>\n",
       "      <td>690</td>\n",
       "      <td>soccer</td>\n",
       "      <td>4</td>\n",
       "      <td>1</td>\n",
       "      <td>1315</td>\n",
       "      <td>180</td>\n",
       "    </tr>\n",
       "    <tr>\n",
       "      <th>6</th>\n",
       "      <td>3.300</td>\n",
       "      <td>1</td>\n",
       "      <td>1</td>\n",
       "      <td>720</td>\n",
       "      <td>3.0</td>\n",
       "      <td>420.0</td>\n",
       "      <td>1</td>\n",
       "      <td>Ice cream, cheeseburgers, chips.</td>\n",
       "      <td>I eat comfort food when im stressed out from s...</td>\n",
       "      <td>1.0</td>\n",
       "      <td>...</td>\n",
       "      <td>1.0</td>\n",
       "      <td>2.0</td>\n",
       "      <td>1</td>\n",
       "      <td>725.0</td>\n",
       "      <td>500</td>\n",
       "      <td>none</td>\n",
       "      <td>4</td>\n",
       "      <td>2</td>\n",
       "      <td>1315</td>\n",
       "      <td>137</td>\n",
       "    </tr>\n",
       "  </tbody>\n",
       "</table>\n",
       "<p>7 rows × 61 columns</p>\n",
       "</div>"
      ],
      "text/plain": [
       "     GPA  Gender  breakfast  calories_chicken  calories_day  calories_scone  \\\n",
       "0  2.400       2          1               430           NaN           315.0   \n",
       "1  3.654       1          1               610           3.0           420.0   \n",
       "2  3.200       1          1               430           3.0           420.0   \n",
       "3  3.500       1          1               720           2.0           420.0   \n",
       "4  2.250       1          1               610           3.0           980.0   \n",
       "5  3.800       2          1               610           3.0           420.0   \n",
       "6  3.300       1          1               720           3.0           420.0   \n",
       "\n",
       "   coffee                                  comfort_food  \\\n",
       "0       1                                          none   \n",
       "1       2                   chocolate, chips, ice cream   \n",
       "2       2              Pizza, Mac and cheese, ice cream   \n",
       "3       2                  Ice cream, chocolate, chips    \n",
       "4       2                     Candy, brownies and soda.   \n",
       "5       2  Chocolate, ice cream, french fries, pretzels   \n",
       "6       1              Ice cream, cheeseburgers, chips.   \n",
       "\n",
       "                                comfort_food_reasons  \\\n",
       "0                              we dont have comfort    \n",
       "1                               Stress, bored, anger   \n",
       "2                                            Boredom   \n",
       "3                         Stress, boredom, cravings    \n",
       "4  None, i don't eat comfort food. I just eat whe...   \n",
       "5                                    stress, boredom   \n",
       "6  I eat comfort food when im stressed out from s...   \n",
       "\n",
       "   comfort_food_reasons_coded  ...  soup  sports  thai_food tortilla_calories  \\\n",
       "0                         9.0  ...   1.0     1.0          1            1165.0   \n",
       "1                         1.0  ...   1.0     1.0          2             725.0   \n",
       "2                         2.0  ...   1.0     2.0          5             725.0   \n",
       "3                         1.0  ...   1.0     1.0          4             940.0   \n",
       "4                         4.0  ...   1.0     2.0          4             940.0   \n",
       "5                         1.0  ...   1.0     1.0          5             940.0   \n",
       "6                         1.0  ...   1.0     2.0          1             725.0   \n",
       "\n",
       "   turkey_calories  type_sports veggies_day  vitamins  waffle_calories  \\\n",
       "0              345   car racing           5         1             1315   \n",
       "1              690  Basketball            4         2              900   \n",
       "2              690          NaN           3         1             1315   \n",
       "3              500     Softball           4         2              760   \n",
       "4              345        None.           1         2             1315   \n",
       "5              690       soccer           4         1             1315   \n",
       "6              500         none           4         2             1315   \n",
       "\n",
       "          weight  \n",
       "0            187  \n",
       "1            155  \n",
       "2  Not sure, 240  \n",
       "3            190  \n",
       "4            190  \n",
       "5            180  \n",
       "6            137  \n",
       "\n",
       "[7 rows x 61 columns]"
      ]
     },
     "execution_count": 5,
     "metadata": {},
     "output_type": "execute_result"
    }
   ],
   "source": [
    "df.head(7)"
   ]
  },
  {
   "cell_type": "code",
   "execution_count": 6,
   "metadata": {},
   "outputs": [],
   "source": [
    "from pyspark.sql import SparkSession\n",
    "#Create PySpark SparkSession\n",
    "spark = SparkSession.builder \\\n",
    "    .master(\"local[1]\") \\\n",
    "    .appName(\"SparkByExamples.com\") \\\n",
    "    .getOrCreate()"
   ]
  },
  {
   "cell_type": "code",
   "execution_count": 7,
   "metadata": {},
   "outputs": [],
   "source": [
    "spark.conf.set(\"spark.sql.execution.arrow.enabled\",\"true\")\n",
    "food=spark.createDataFrame(df) "
   ]
  },
  {
   "cell_type": "code",
   "execution_count": 9,
   "metadata": {},
   "outputs": [
    {
     "data": {
      "text/plain": [
       "pyspark.sql.dataframe.DataFrame"
      ]
     },
     "execution_count": 9,
     "metadata": {},
     "output_type": "execute_result"
    }
   ],
   "source": [
    "type(food)"
   ]
  },
  {
   "cell_type": "code",
   "execution_count": 10,
   "metadata": {},
   "outputs": [],
   "source": [
    "header=food.first()"
   ]
  },
  {
   "cell_type": "code",
   "execution_count": 11,
   "metadata": {},
   "outputs": [
    {
     "name": "stdout",
     "output_type": "stream",
     "text": [
      "Row(GPA=2.4, Gender=2, breakfast=1, calories_chicken=430, calories_day=None, calories_scone=315.0, coffee=1, comfort_food='none', comfort_food_reasons='we dont have comfort ', comfort_food_reasons_coded=9.0, cook=2.0, comfort_food_reasons_coded.1=9, cuisine=None, diet_current='eat good and exercise', diet_current_coded=1, drink=1.0, eating_changes='eat faster ', eating_changes_coded=1, eating_changes_coded1=1, eating_out=3, employment=3.0, ethnic_food=1, exercise=1.0, father_education=5.0, father_profession='profesor ', fav_cuisine='Arabic cuisine', fav_cuisine_coded=3, fav_food=1.0, food_childhood='rice  and chicken ', fries=2, fruit_day=5, grade_level=2, greek_food=5, healthy_feeling=2, healthy_meal='looks not oily ', ideal_diet='being healthy ', ideal_diet_coded=8, income=5.0, indian_food=5, italian_food=5, life_rewarding=1.0, marital_status=1.0, meals_dinner_friend='rice, chicken,  soup', mother_education=1.0, mother_profession='unemployed', nutritional_check=5, on_off_campus=1.0, parents_cook=1, pay_meal_out=2, persian_food=5.0, self_perception_weight=3.0, soup=1.0, sports=1.0, thai_food=1, tortilla_calories=1165.0, turkey_calories=345, type_sports='car racing', veggies_day=5, vitamins=1, waffle_calories=1315, weight='187')\n"
     ]
    }
   ],
   "source": [
    "print(header)"
   ]
  },
  {
   "cell_type": "code",
   "execution_count": 12,
   "metadata": {},
   "outputs": [
    {
     "data": {
      "text/plain": [
       "pyspark.sql.dataframe.DataFrame"
      ]
     },
     "execution_count": 12,
     "metadata": {},
     "output_type": "execute_result"
    }
   ],
   "source": [
    "# To see the dataframe\n",
    "type(food)"
   ]
  },
  {
   "cell_type": "markdown",
   "metadata": {},
   "source": [
    "####  ii. Transform: Exploratory data analysis using spark df"
   ]
  },
  {
   "cell_type": "markdown",
   "metadata": {},
   "source": [
    "#### Unique RECORD count"
   ]
  },
  {
   "cell_type": "code",
   "execution_count": 13,
   "metadata": {},
   "outputs": [
    {
     "data": {
      "text/plain": [
       "123"
      ]
     },
     "execution_count": 13,
     "metadata": {},
     "output_type": "execute_result"
    }
   ],
   "source": [
    "food.distinct().count()"
   ]
  },
  {
   "cell_type": "markdown",
   "metadata": {},
   "source": [
    "#### Select columns GPA,Gender,\tbreakfast,Calories_chicken,\tcalories_day,\tcalories_scone,\tcoffee type_sports"
   ]
  },
  {
   "cell_type": "code",
   "execution_count": 14,
   "metadata": {},
   "outputs": [
    {
     "name": "stdout",
     "output_type": "stream",
     "text": [
      "+-----+------+---------+----------------+------------+--------------+------+--------------------+\n",
      "|  GPA|Gender|breakfast|calories_chicken|calories_day|calories_scone|coffee|         type_sports|\n",
      "+-----+------+---------+----------------+------------+--------------+------+--------------------+\n",
      "|  2.4|     2|        1|             430|        null|         315.0|     1|          car racing|\n",
      "|3.654|     1|        1|             610|         3.0|         420.0|     2|         Basketball |\n",
      "|  3.2|     1|        1|             430|         3.0|         420.0|     2|                null|\n",
      "|  3.5|     1|        1|             720|         2.0|         420.0|     2|            Softball|\n",
      "| 2.25|     1|        1|             610|         3.0|         980.0|     2|               None.|\n",
      "|  3.8|     2|        1|             610|         3.0|         420.0|     2|              soccer|\n",
      "|  3.3|     1|        1|             720|         3.0|         420.0|     1|                none|\n",
      "|  3.3|     1|        1|             430|        null|         420.0|     1|                none|\n",
      "|  3.3|     1|        1|             430|         3.0|         315.0|     2|        field hockey|\n",
      "|  3.5|     1|        1|             610|         3.0|         980.0|     2|              soccer|\n",
      "|3.904|     1|        1|             720|         4.0|         420.0|     2|             Running|\n",
      "|  3.4|     2|        1|             430|         3.0|         420.0|     2|Soccer and basket...|\n",
      "|  3.6|     1|        1|             610|         3.0|         420.0|     2|intramural volley...|\n",
      "|  3.1|     2|        1|             610|         3.0|         420.0|     2|              Hockey|\n",
      "| null|     2|        2|             430|        null|         980.0|     2|              Hockey|\n",
      "|  4.0|     1|        1|             265|         3.0|         420.0|     1|                null|\n",
      "|  3.6|     2|        1|             430|         3.0|         980.0|     2|              hockey|\n",
      "|  3.4|     1|        1|             720|         3.0|         980.0|     1|            dancing |\n",
      "|  2.2|     2|        1|             430|         2.0|         420.0|     2|          basketball|\n",
      "|  3.3|     2|        1|             610|         3.0|         980.0|     2|              Soccer|\n",
      "+-----+------+---------+----------------+------------+--------------+------+--------------------+\n",
      "only showing top 20 rows\n",
      "\n"
     ]
    }
   ],
   "source": [
    "from pyspark.sql.functions import col\n",
    "food.select(col(\"GPA\"),col(\"Gender\"),col(\"breakfast\"),col(\"calories_chicken\"),col(\"calories_day\"),col(\"calories_scone\"),col(\"coffee\"),col(\"type_sports\")).show()"
   ]
  },
  {
   "cell_type": "markdown",
   "metadata": {},
   "source": [
    "#### Handling nan -> replace with 0 for numerical columns and others in categorical columns"
   ]
  },
  {
   "cell_type": "code",
   "execution_count": 24,
   "metadata": {
    "scrolled": true
   },
   "outputs": [],
   "source": [
    "column_int = [field.name for field in food.schema.fields if isinstance(\n",
    "    field.dataType, DoubleType)]"
   ]
  },
  {
   "cell_type": "code",
   "execution_count": 25,
   "metadata": {},
   "outputs": [],
   "source": [
    "#  replace with 0 for numerical columns \n",
    "food = food.fillna(0,subset=column_int)"
   ]
  },
  {
   "cell_type": "code",
   "execution_count": 26,
   "metadata": {},
   "outputs": [],
   "source": [
    "column_str = [field.name for field in food.schema.fields if isinstance(\n",
    "    field.dataType, StringType)]"
   ]
  },
  {
   "cell_type": "code",
   "execution_count": 27,
   "metadata": {},
   "outputs": [],
   "source": [
    "# nan -> replace with 'others' in categorical columns\n",
    "food = food.fillna('Others',subset=column_str)"
   ]
  },
  {
   "cell_type": "markdown",
   "metadata": {},
   "source": [
    "#### Replace - Gender -> 1 to M and 2 to F"
   ]
  },
  {
   "cell_type": "code",
   "execution_count": 28,
   "metadata": {},
   "outputs": [
    {
     "name": "stdout",
     "output_type": "stream",
     "text": [
      "+-----+------+---------+----------------+------------+--------------+------+---------------------------------------------------------+---------------------------------------------------------------------------------------------------------------------------------+--------------------------+----+----------------------------+-------+-----------------------------------------------------------------------------------------------------------------------------------------------------------------------------------------------------------------------------+------------------+-----+------------------------------------------------------------------------------------------------------------------------------------------------------------------------------------------+--------------------+---------------------+----------+----------+-----------+--------+----------------+----------------------------+-------------------------------------+-----------------+--------+--------------------------------------------+-----+---------+-----------+----------+---------------+----------------------------------------------------------------------------------------------------------------+----------------------------------------------------------------------------------------------------------------------------------------------+----------------+------+-----------+------------+--------------+--------------+----------------------------------------------------------------------------------------------------------------------+----------------+-------------------------+-----------------+-------------+------------+------------+------------+----------------------+----+------+---------+-----------------+---------------+----------------------+-----------+--------+---------------+-------------+\n",
      "|GPA  |Gender|breakfast|calories_chicken|calories_day|calories_scone|coffee|comfort_food                                             |comfort_food_reasons                                                                                                             |comfort_food_reasons_coded|cook|comfort_food_reasons_coded.1|cuisine|diet_current                                                                                                                                                                                                                 |diet_current_coded|drink|eating_changes                                                                                                                                                                            |eating_changes_coded|eating_changes_coded1|eating_out|employment|ethnic_food|exercise|father_education|father_profession           |fav_cuisine                          |fav_cuisine_coded|fav_food|food_childhood                              |fries|fruit_day|grade_level|greek_food|healthy_feeling|healthy_meal                                                                                                    |ideal_diet                                                                                                                                    |ideal_diet_coded|income|indian_food|italian_food|life_rewarding|marital_status|meals_dinner_friend                                                                                                   |mother_education|mother_profession        |nutritional_check|on_off_campus|parents_cook|pay_meal_out|persian_food|self_perception_weight|soup|sports|thai_food|tortilla_calories|turkey_calories|type_sports           |veggies_day|vitamins|waffle_calories|weight       |\n",
      "+-----+------+---------+----------------+------------+--------------+------+---------------------------------------------------------+---------------------------------------------------------------------------------------------------------------------------------+--------------------------+----+----------------------------+-------+-----------------------------------------------------------------------------------------------------------------------------------------------------------------------------------------------------------------------------+------------------+-----+------------------------------------------------------------------------------------------------------------------------------------------------------------------------------------------+--------------------+---------------------+----------+----------+-----------+--------+----------------+----------------------------+-------------------------------------+-----------------+--------+--------------------------------------------+-----+---------+-----------+----------+---------------+----------------------------------------------------------------------------------------------------------------+----------------------------------------------------------------------------------------------------------------------------------------------+----------------+------+-----------+------------+--------------+--------------+----------------------------------------------------------------------------------------------------------------------+----------------+-------------------------+-----------------+-------------+------------+------------+------------+----------------------+----+------+---------+-----------------+---------------+----------------------+-----------+--------+---------------+-------------+\n",
      "|2.4  |F     |1        |430             |0.0         |315.0         |1     |none                                                     |we dont have comfort                                                                                                             |9.0                       |2.0 |9                           |0.0    |eat good and exercise                                                                                                                                                                                                        |1                 |1.0  |eat faster                                                                                                                                                                                |1                   |1                    |3         |3.0       |1          |1.0     |5.0             |profesor                    |Arabic cuisine                       |3                |1.0     |rice  and chicken                           |2    |5        |2          |5         |2              |looks not oily                                                                                                  |being healthy                                                                                                                                 |8               |5.0   |5          |5           |1.0           |1.0           |rice, chicken,  soup                                                                                                  |1.0             |unemployed               |5                |1.0          |1           |2           |5.0         |3.0                   |1.0 |1.0   |1        |1165.0           |345            |car racing            |5          |1       |1315           |187          |\n",
      "|3.654|M     |1        |610             |3.0         |420.0         |2     |chocolate, chips, ice cream                              |Stress, bored, anger                                                                                                             |1.0                       |3.0 |1                           |1.0    |I eat about three times a day with some snacks. I try to eat healthy but it doesn't always work out that- sometimes eat fast food and mainly eat at Laker/ Egan                                                              |2                 |2.0  |I eat out more than usual.                                                                                                                                                                |1                   |2                    |2         |2.0       |4          |1.0     |2.0             |Self employed               |Italian                              |1                |1.0     |chicken and biscuits, beef soup, baked beans|1    |4        |4          |4         |5              |Grains, Veggies, (more of grains and veggies), small protein and fruit with dairy                               |Try to eat 5-6 small meals a day. While trying to properly distribute carbs, protein, fruits, veggies, and dairy.                             |3               |4.0   |4          |4           |1.0           |2.0           |Pasta, steak, chicken                                                                                                 |4.0             |Nurse RN                 |4                |1.0          |1           |4           |4.0         |3.0                   |1.0 |1.0   |2        |725.0            |690            |Basketball            |4          |2       |900            |155          |\n",
      "|3.2  |M     |1        |430             |3.0         |420.0         |2     |Pizza, Mac and cheese, ice cream                         |Boredom                                                                                                                          |2.0                       |2.0 |2                           |2.0    |College diet, cheap and easy foods most nights. Weekends traditionally, cook better homemade meals                                                                                                                           |2                 |2.0  |Accepting cheap and premade/store bought foods                                                                                                                                            |1                   |3                    |2         |3.0       |5          |3.0     |2.0             |Mechanic                    |Turkish                              |3                |1.0     |Beef stroganoff, tacos, pizza               |2    |4        |4          |5         |7              |Fresh fruits& vegetables, organic meats                                                                         |Healthy, fresh veggies/fruits & organic foods                                                                                                 |2               |6.0   |5          |5           |2.0           |2.0           |Grilled chicken \\nStuffed Shells\\nHomemade Chili                                                                      |4.0             |Special Education Teacher|2                |1.0          |1           |2           |5.0         |5.0                   |1.0 |2.0   |5        |725.0            |690            |Others                |3          |1       |1315           |Not sure, 240|\n",
      "|3.5  |M     |1        |720             |2.0         |420.0         |2     |Ice cream, chocolate, chips                              |Stress, boredom, cravings                                                                                                        |1.0                       |1.0 |1                           |2.0    |I try to eat healthy but often struggle because of living on campus. I still try to keep the choices I do make balanced with fruits and vegetables and limit the sweats.                                                     |2                 |2.0  |I have eaten generally the same foods but I do find myself eating the same food frequently due to what I have found I like from egan and the laker.                                       |3                   |4                    |2         |2.0       |4          |1.0     |4.0             |IT                          |Italian                              |1                |3.0     |Pasta, chicken tender, pizza                |1    |4        |4          |4         |6              |A lean protein such as grilled chicken, green vegetables and  brown rice or other whole grain                   |Ideally I would like to be able to eat healthier foods in order to loose weight.                                                              |2               |6.0   |2          |5           |1.0           |1.0           |Chicken Parmesan, Pulled Pork, Spaghetti and meatballs                                                                |5.0             |Substance Abuse Conselor |3                |1.0          |1           |4           |2.0         |4.0                   |1.0 |1.0   |4        |940.0            |500            |Softball              |4          |2       |760            |190          |\n",
      "|2.25 |M     |1        |610             |3.0         |980.0         |2     |Candy, brownies and soda.                                |None, i don't eat comfort food. I just eat when i'm hungry.                                                                      |4.0                       |3.0 |4                           |0.0    |My current diet is terrible. I barely have time to eat a meal in a day. When i do eat it's mostly not healthy.                                                                                                               |2                 |2.0  |Eating rice everyday. Eating less homemade food.                                                                                                                                          |1                   |3                    |1         |3.0       |4          |2.0     |1.0             |Taxi Driver                 |African                              |6                |3.0     |Fries, plaintain & fried fish               |1    |2        |2          |2         |4              |Requires veggies, fruits and a cooked meal.                                                                     |My ideal diet is to eat 3 times a day including breakfast on time. Eat healthy food.                                                          |2               |1.0   |5          |5           |4.0           |2.0           |Anything they'd want. I'd ask them before hand what they want to eat and it depends on which type of friend is coming.|1.0             |Hair Braider             |1                |1.0          |2           |5           |5.0         |5.0                   |1.0 |2.0   |4        |940.0            |345            |None.                 |1          |2       |1315           |190          |\n",
      "|3.8  |F     |1        |610             |3.0         |420.0         |2     |Chocolate, ice cream, french fries, pretzels             |stress, boredom                                                                                                                  |1.0                       |2.0 |1                           |1.0    |I eat a lot of chicken and broccoli for dinner, and usually tuna sandwiches for lunch.                                                                                                                                       |3                 |1.0  |I started eating a lot less and healthier because I wasn't playing sports year round anymore.                                                                                             |2                   |5                    |2         |3.0       |5          |1.0     |4.0             |Assembler                   |Thai                                 |4                |1.0     |grilled chicken, hamburgers                 |1    |4        |4          |5         |4              |Protein, vegetables, fruit, and some carbs                                                                      |I would ideally like to eat more fresh fruits and vegetables. However, its difficult to get to the store all the time to buy fresh.           |2               |4.0   |5          |5           |8.0           |1.0           |Grilled chicken, steak, pizza                                                                                         |4.0             |Journalist               |4                |2.0          |2           |2           |5.0         |4.0                   |1.0 |1.0   |5        |940.0            |690            |soccer                |4          |1       |1315           |180          |\n",
      "|3.3  |M     |1        |720             |3.0         |420.0         |1     |Ice cream, cheeseburgers, chips.                         |I eat comfort food when im stressed out from school(finals week), when I`m sad, or when i am dealing with personal family issues.|1.0                       |3.0 |1                           |1.0    |I eat a very healthy diet. Ocassionally, i will eat out and get unhealthy food.                                                                                                                                              |1                 |2.0  |Freshmen year i ate very unhealthy, but now it is much healthier because of self control.                                                                                                 |2                   |5                    |2         |2.0       |2          |2.0     |3.0             |Business guy                |Anything american style.             |5                |1.0     |chicken, cheesey potatoes, and hot dogs     |1    |5        |2          |3         |3              |A healthy meal has a piece of meat followed by a lot of fruit and veggies                                       |My ideal diet is filled with a lot of fruit and chicken. I also really enjoy eggs any type of way with toast.                                 |2               |5.0   |1          |3           |3.0           |1.0           |chicken, steak, pasta                                                                                                 |2.0             |cook                     |4                |1.0          |1           |5           |1.0         |3.0                   |1.0 |2.0   |1        |725.0            |500            |none                  |4          |2       |1315           |137          |\n",
      "|3.3  |M     |1        |430             |0.0         |420.0         |1     |Donuts, ice cream, chips                                 |Boredom                                                                                                                          |2.0                       |3.0 |2                           |1.0    |I eat whatever I want in moderation.                                                                                                                                                                                         |1                 |1.0  |I snack less                                                                                                                                                                              |2                   |8                    |5         |2.0       |5          |0.0     |5.0             |High School Principal       |Seafood                              |1                |3.0     |Shrimp, spaghetti                           |1    |4        |1          |5         |7              |Colorful                                                                                                        |The same as it is now.                                                                                                                        |6               |5.0   |5          |5           |8.0           |2.0           |Pasta, Fish, Steak                                                                                                    |5.0             |Elementary School Teacher|2                |1.0          |2           |3           |5.0         |4.0                   |2.0 |2.0   |5        |725.0            |345            |none                  |3          |2       |760            |180          |\n",
      "|3.3  |M     |1        |430             |3.0         |315.0         |2     |Mac and cheese, chocolate, and pasta                     |Stress, anger and sadness                                                                                                        |1.0                       |3.0 |1                           |1.0    |I eat healthy all the time when possible. I treat myself occasionally. I don't really like the greasy meals, if anything I would eat sweets over the greasy meals.                                                           |1                 |1.0  |I cook a lot of my own foods back at home so not being able to cook my own healthy choices. I eat more carbs than normal when I'm at college due to the choices given in the cafe.        |1                   |3                    |3         |3.0       |5          |1.0     |5.0             |commissioner of erie county |Italian                              |1                |1.0     |Pasta, Eggs, Pancakes                       |1    |5        |1          |5         |3              |Chicken and rice with a side of veggies.                                                                        |Lots of protein, carbs, and fruits and veggies.                                                                                               |2               |4.0   |4          |5           |3.0           |2.0           |pasta salad and bread                                                                                                 |5.0             |Pharmaceutical rep       |5                |1.0          |3           |3           |4.0         |3.0                   |1.0 |1.0   |4        |580.0            |345            |field hockey          |5          |1       |900            |125          |\n",
      "|3.5  |M     |1        |610             |3.0         |980.0         |2     |Pasta, grandma homemade chocolate cake anything homemade |Boredom                                                                                                                          |2.0                       |1.0 |2                           |1.0    |i eat very healthy. Maybe eat out 1-2 times a week.                                                                                                                                                                          |1                 |2.0  |Nun                                                                                                                                                                                       |3                   |4                    |2         |1.0       |5          |1.0     |2.0             |Idk                         |Orange chicken and chow mani noodles |4                |1.0     |Chicken                                     |1    |5        |3          |1         |9              |Chicken, and veggies                                                                                            |Chicken, fish                                                                                                                                 |7               |3.0   |1          |5           |8.0           |1.0           |chicken al king, spaghetti, fish                                                                                      |4.0             |Chidos Cleaners          |2                |3.0          |1           |2           |2.0         |1.0                   |1.0 |1.0   |2        |940.0            |345            |soccer                |5          |2       |900            |116          |\n",
      "|3.904|M     |1        |720             |4.0         |420.0         |2     |chocolate, pasta, soup, chips, popcorn                   |sadness, stress, cold weather                                                                                                    |3.0                       |3.0 |3                           |1.0    |I am very health concious. I eat many fruits, veggies, and protiens.                                                                                                                                                         |1                 |1.0  |Less meat.                                                                                                                                                                                |4                   |5                    |1         |2.0       |5          |1.0     |3.0             |Home Marker                 |Italian                              |1                |1.0     |Scalloped potatoes and ham                  |1    |5        |2          |5         |1              |lean protein, veggies, fruit, complex carbs                                                                     |More healthy varienty.                                                                                                                        |2               |5.0   |5          |5           |1.0           |2.0           |Chicken parm, Fish, Pasta dishes                                                                                      |4.0             |Court Reporter           |5                |1.0          |1           |3           |5.0         |2.0                   |1.0 |1.0   |5        |940.0            |500            |Running               |5          |1       |900            |110          |\n",
      "|3.4  |F     |1        |430             |3.0         |420.0         |2     |Cookies, popcorn, and chips                              |Sadness, boredom, late night snack                                                                                               |3.0                       |5.0 |3                           |1.0    |I focus mostly on proteins and fruits. I eat a lot less vegetables and a few carbohydrates.                                                                                                                                  |1                 |2.0  |I have been eating a lot more salads and soups.                                                                                                                                           |2                   |5                    |1         |3.0       |4          |3.0     |3.0             |Shirt designer              |Chinese                              |4                |3.0     |Pizza, chicken wings, and corn on the cob   |1    |4        |1          |3         |9              |A salad with a reasonable amount of dressing and a meat.                                                        |My ideal diet would be the proper portions of all food categories. I would also like to eat proteins around my workouts and avoid all deserts.|1               |5.0   |3          |4           |9.0           |2.0           |Cereal, pizza, toast                                                                                                  |4.0             |Child care provider      |2                |1.0          |2           |2           |3.0         |5.0                   |2.0 |1.0   |3        |940.0            |500            |Soccer and basketball |3          |2       |575            |264          |\n",
      "|3.6  |M     |1        |610             |3.0         |420.0         |2     |ice cream, cake, chocolate                               |stress,  boredom, special occasions                                                                                              |1.0                       |2.0 |1                           |1.0    |Not as healthy when I am at school compared to home. Still very aware of the nutrition I am taking in.                                                                                                                       |2                 |2.0  |not as healthy because healthy food goes bad quickly and it is expensive                                                                                                                  |1                   |3                    |4         |2.0       |5          |2.0     |2.0             |business owner              |italian                              |1                |1.0     |steak, lasagna, crab                        |1    |5        |3          |4         |8              |Lots of vegetabls with some grains like rice. Also has lean meat such as fish or chicken.                       |organic/healthy. fruits and vegetables but still protein to give sustainance.                                                                 |2               |5.0   |3          |5           |10.0          |2.0           |pasta, chicken, steak                                                                                                 |4.0             |business owner           |2                |2.0          |2           |3           |3.0         |3.0                   |1.0 |1.0   |5        |1165.0           |850            |intramural volleyball |5          |2       |1315           |123          |\n",
      "|3.1  |F     |1        |610             |3.0         |420.0         |2     |Pizza, fruit, spaghetti, chicken and Potatoes            |Friends, environment and boredom                                                                                                 |2.0                       |3.0 |2                           |1.0    |Making sure I have enough protein intake, as well with fibre, vitamins and carbs.                                                                                                                                            |1                 |2.0  |I knew I would eat alot my freshmen year, before coming to college i had a diet plan.                                                                                                     |3                   |4                    |2         |3.0       |4          |2.0     |4.0             |Commidity trader            |Chinese                              |4                |3.0     |Pizza                                       |1    |5        |3          |4         |2              |Green and not greasy                                                                                            |Eat a little less than I usually do, and intaking more protein.                                                                               |1               |5.0   |2          |3           |1.0           |1.0           |Pizza, chicken and rice, roast beef.                                                                                  |4.0             |Charity worker           |2                |2.0          |2           |3           |1.0         |3.0                   |1.0 |1.0   |4        |940.0            |500            |Hockey                |5          |1       |900            |185          |\n",
      "|0.0  |F     |2        |430             |0.0         |980.0         |2     |cookies, donuts, candy bars                              |boredom                                                                                                                          |2.0                       |4.0 |2                           |1.0    |I like a lot of foods that arent home cooked or healthy for you.                                                                                                                                                             |2                 |2.0  |none                                                                                                                                                                                      |3                   |4                    |4         |3.0       |1          |1.0     |5.0             |Hockey Coach                |italian food                         |1                |2.0     |pizza                                       |1    |3        |1          |1         |6              |chicken, veggies, rice                                                                                          |I wish I ate lots of healthy foods like veggies and salads.                                                                                   |2               |4.0   |1          |5           |0.0           |2.0           |pizza buffalo chicken pasta                                                                                           |4.0             |Librarian                |1                |1.0          |2           |3           |1.0         |2.0                   |2.0 |1.0   |1        |940.0            |345            |Hockey                |1          |2       |1315           |180          |\n",
      "|4.0  |M     |1        |265             |3.0         |420.0         |1     |Saltfish, Candy and Kit Kat                              |Stress                                                                                                                           |1.0                       |3.0 |1                           |0.0    |I eat very healthy                                                                                                                                                                                                           |1                 |1.0  |More Water                                                                                                                                                                                |2                   |5                    |1         |2.0       |2          |2.0     |1.0             |Construction                |Jamaican                             |7                |1.0     |Curry, Stew Chicken and Saltfish            |1    |5        |1          |2         |7              |Not too much carbs, a lot of protein, healthy fats and fruits and vegs                                          |Vegetables and Fruits with Meat                                                                                                               |2               |1.0   |5          |3           |9.0           |2.0           |Curry goat, saltfish, jerk chicken                                                                                    |2.0             |Police                   |4                |1.0          |2           |2           |2.0         |3.0                   |1.0 |2.0   |1        |580.0            |345            |Others                |5          |1       |760            |145          |\n",
      "|3.6  |F     |1        |430             |3.0         |980.0         |2     |chips, cookies, ice cream                                |I usually only eat comfort food when I'm bored, if i am doing something, i can go for hours without eating                       |2.0                       |3.0 |2                           |1.0    |My current diet is eggs and a meat every morning for breakfast. For lunch ill usually have some pasta or rice with a meat and sometimes a side of veggies. for dinner i usually eat less carbs and more protein and veggies. |3                 |2.0  |I would say i just eat a little more, but not in a bad way. I have unlimited swipes at the cafe so instead of snacking on chips before lunch or dinner i will get something from the cafe.|1                   |2                    |2         |3.0       |4          |1.0     |2.0             |self employed construction  |American or Italian                  |5                |3.0     |chicken fingers, steak, mac and cheese      |1    |3        |1          |3         |8              |for me usually a big piece of chicken or steak with a side of veggies, and i usually have rice with mine as well|I like how my diet it now. However, after my season i am going to cut back on some carbs because i won't be working out as much.              |1               |6.0   |3          |5           |7.0           |2.0           |Grilled chicken or steak with veggies and rice. or some type of pasta and chicken                                     |2.0             |stay at home mom         |4                |1.0          |1           |6           |2.0         |2.0                   |1.0 |1.0   |3        |940.0            |500            |hockey                |4          |2       |900            |170          |\n",
      "|3.4  |M     |1        |720             |3.0         |980.0         |1     |Chocolate, ice crea                                      |Sadness, stress                                                                                                                  |3.0                       |3.0 |3                           |1.0    |I eat lots of fruit and veggies. I eat lots of chicken.                                                                                                                                                                      |1                 |1.0  |I ate at the food hall.                                                                                                                                                                   |4                   |6                    |3         |2.0       |1          |3.0     |5.0             |Engineer                    |Chicken                              |5                |3.0     |Chicken                                     |1    |5        |2          |3         |6              |Everything from food group                                                                                      |Lots of fruit and veggies. Lots of chicken.                                                                                                   |2               |5.0   |1          |5           |9.0           |2.0           |Spaghetti, Chicken, Steak                                                                                             |3.0             |Daycare provider         |2                |1.0          |1           |2           |1.0         |3.0                   |2.0 |2.0   |1        |1165.0           |690            |dancing               |5          |1       |1315           |135          |\n",
      "|2.2  |F     |1        |430             |2.0         |420.0         |2     |pizza, wings, Chinese                                    |boredom, sadness, hungry                                                                                                         |2.0                       |4.0 |2                           |1.0    |Current diet right now isn't very good. I eat at the school's cafeteria and they do not have the best choices.                                                                                                               |2                 |2.0  |None really                                                                                                                                                                               |3                   |4                    |2         |3.0       |3          |2.0     |5.0             |architect                   |Italian                              |1                |1.0     |manacotti                                   |1    |2        |1          |3         |4              |lots of fruits and vegitibles, not any fried foods                                                              |Something that tastes good and also is good for you. This is very hard to find though.                                                        |3               |5.0   |2          |5           |7.0           |1.0           |chicken, manicotti, rice                                                                                              |4.0             |physical therapist       |1                |1.0          |1           |3           |3.0         |4.0                   |1.0 |0.0   |3        |940.0            |345            |basketball            |2          |2       |900            |165          |\n",
      "|3.3  |F     |1        |610             |3.0         |980.0         |2     |Fast food, pizza, subs                                   |happiness, satisfaction                                                                                                          |7.0                       |5.0 |7                           |1.0    |I eat 2 meals a day, lunch and dinner                                                                                                                                                                                        |2                 |2.0  |Late night food                                                                                                                                                                           |1                   |3                    |4         |2.0       |4          |1.0     |5.0             |CFO                         |Mexican                              |2                |3.0     |pizza, chicken fingers                      |1    |2        |2          |2         |5              |Rice, Meat, vegetable                                                                                           |3 smaller meals a day                                                                                                                         |1               |6.0   |1          |4           |2.0           |1.0           |Chicken, Pasta, Veal                                                                                                  |4.0             |Teacher                  |2                |1.0          |1           |2           |1.0         |6.0                   |1.0 |1.0   |1        |1165.0           |850            |Soccer                |3          |2       |1315           |175          |\n",
      "+-----+------+---------+----------------+------------+--------------+------+---------------------------------------------------------+---------------------------------------------------------------------------------------------------------------------------------+--------------------------+----+----------------------------+-------+-----------------------------------------------------------------------------------------------------------------------------------------------------------------------------------------------------------------------------+------------------+-----+------------------------------------------------------------------------------------------------------------------------------------------------------------------------------------------+--------------------+---------------------+----------+----------+-----------+--------+----------------+----------------------------+-------------------------------------+-----------------+--------+--------------------------------------------+-----+---------+-----------+----------+---------------+----------------------------------------------------------------------------------------------------------------+----------------------------------------------------------------------------------------------------------------------------------------------+----------------+------+-----------+------------+--------------+--------------+----------------------------------------------------------------------------------------------------------------------+----------------+-------------------------+-----------------+-------------+------------+------------+------------+----------------------+----+------+---------+-----------------+---------------+----------------------+-----------+--------+---------------+-------------+\n",
      "only showing top 20 rows\n",
      "\n"
     ]
    }
   ],
   "source": [
    "from pyspark.sql.functions import when\n",
    "food.withColumn('Gender', \n",
    "    when(food.Gender.endswith('1'),regexp_replace(food.Gender,'1','M')) \\\n",
    "   .when(food.Gender.endswith('2'),regexp_replace(food.Gender,'2','F')) \\\n",
    "   .otherwise(food.Gender)) \\\n",
    "   .show(truncate=False)"
   ]
  },
  {
   "cell_type": "markdown",
   "metadata": {},
   "source": [
    "#### Normalize GPA column - normalized  v = v - min(GPA)/max(GPA)-min(GPA)"
   ]
  },
  {
   "cell_type": "code",
   "execution_count": 29,
   "metadata": {},
   "outputs": [
    {
     "name": "stdout",
     "output_type": "stream",
     "text": [
      "After Scaling :\n"
     ]
    },
    {
     "data": {
      "text/plain": [
       "DataFrame[GPA: double, Gender: bigint, breakfast: bigint, calories_chicken: bigint, calories_day: double, calories_scone: double, coffee: bigint, comfort_food: string, comfort_food_reasons: string, comfort_food_reasons_coded: double, cook: double, comfort_food_reasons_coded.1: bigint, cuisine: double, diet_current: string, diet_current_coded: bigint, drink: double, eating_changes: string, eating_changes_coded: bigint, eating_changes_coded1: bigint, eating_out: bigint, employment: double, ethnic_food: bigint, exercise: double, father_education: double, father_profession: string, fav_cuisine: string, fav_cuisine_coded: bigint, fav_food: double, food_childhood: string, fries: bigint, fruit_day: bigint, grade_level: bigint, greek_food: bigint, healthy_feeling: bigint, healthy_meal: string, ideal_diet: string, ideal_diet_coded: bigint, income: double, indian_food: bigint, italian_food: bigint, life_rewarding: double, marital_status: double, meals_dinner_friend: string, mother_education: double, mother_profession: string, nutritional_check: bigint, on_off_campus: double, parents_cook: bigint, pay_meal_out: bigint, persian_food: double, self_perception_weight: double, soup: double, sports: double, thai_food: bigint, tortilla_calories: double, turkey_calories: bigint, type_sports: string, veggies_day: bigint, vitamins: bigint, waffle_calories: bigint, weight: string, GPA_Scaled: double]"
      ]
     },
     "execution_count": 29,
     "metadata": {},
     "output_type": "execute_result"
    }
   ],
   "source": [
    "from pyspark.ml.feature import MinMaxScaler\n",
    "from pyspark.ml.feature import VectorAssembler\n",
    "from pyspark.ml import Pipeline\n",
    "from pyspark.sql.functions import udf\n",
    "from pyspark.sql.types import DoubleType\n",
    "\n",
    "unlist = udf(lambda x: round(float(list(x)[0]),3), DoubleType())\n",
    "\n",
    "# Iterating over columns to be scaled\n",
    "for i in [\"GPA\"]:\n",
    "    # VectorAssembler Transformation - Converting column to vector type\n",
    "    assembler = VectorAssembler(inputCols=[i],outputCol=i+\"_Vect\")\n",
    "\n",
    "    # MinMaxScaler Transformation\n",
    "    scaler = MinMaxScaler(inputCol=i+\"_Vect\", outputCol=i+\"_Scaled\")\n",
    "    pipeline = Pipeline(stages=[assembler, scaler])\n",
    "\n",
    "    # Fitting pipeline on dataframe\n",
    "    food = pipeline.fit(food).transform(food).withColumn(i+\"_Scaled\", unlist(i+\"_Scaled\")).drop(i+\"_Vect\")\n",
    "\n",
    "print(\"After Scaling :\")\n",
    "food"
   ]
  },
  {
   "cell_type": "code",
   "execution_count": 30,
   "metadata": {},
   "outputs": [
    {
     "name": "stdout",
     "output_type": "stream",
     "text": [
      "+-----+------+---------+----------------+------------+--------------+------+--------------------+--------------------+--------------------------+----+----------------------------+-------+--------------------+------------------+-----+--------------------+--------------------+---------------------+----------+----------+-----------+--------+----------------+-----------------+--------------+-----------------+--------+--------------------+-----+---------+-----------+----------+---------------+--------------------+--------------------+----------------+------+-----------+------------+--------------+--------------+--------------------+----------------+--------------------+-----------------+-------------+------------+------------+------------+----------------------+----+------+---------+-----------------+---------------+-----------+-----------+--------+---------------+-------------+----------+\n",
      "|  GPA|Gender|breakfast|calories_chicken|calories_day|calories_scone|coffee|        comfort_food|comfort_food_reasons|comfort_food_reasons_coded|cook|comfort_food_reasons_coded.1|cuisine|        diet_current|diet_current_coded|drink|      eating_changes|eating_changes_coded|eating_changes_coded1|eating_out|employment|ethnic_food|exercise|father_education|father_profession|   fav_cuisine|fav_cuisine_coded|fav_food|      food_childhood|fries|fruit_day|grade_level|greek_food|healthy_feeling|        healthy_meal|          ideal_diet|ideal_diet_coded|income|indian_food|italian_food|life_rewarding|marital_status| meals_dinner_friend|mother_education|   mother_profession|nutritional_check|on_off_campus|parents_cook|pay_meal_out|persian_food|self_perception_weight|soup|sports|thai_food|tortilla_calories|turkey_calories|type_sports|veggies_day|vitamins|waffle_calories|       weight|GPA_Scaled|\n",
      "+-----+------+---------+----------------+------------+--------------+------+--------------------+--------------------+--------------------------+----+----------------------------+-------+--------------------+------------------+-----+--------------------+--------------------+---------------------+----------+----------+-----------+--------+----------------+-----------------+--------------+-----------------+--------+--------------------+-----+---------+-----------+----------+---------------+--------------------+--------------------+----------------+------+-----------+------------+--------------+--------------+--------------------+----------------+--------------------+-----------------+-------------+------------+------------+------------+----------------------+----+------+---------+-----------------+---------------+-----------+-----------+--------+---------------+-------------+----------+\n",
      "|  2.4|     2|        1|             430|         0.0|         315.0|     1|                none|we dont have comf...|                       9.0| 2.0|                           9|    0.0|eat good and exer...|                 1|  1.0|         eat faster |                   1|                    1|         3|       3.0|          1|     1.0|             5.0|        profesor |Arabic cuisine|                3|     1.0|  rice  and chicken |    2|        5|          2|         5|              2|     looks not oily |      being healthy |               8|   5.0|          5|           5|           1.0|           1.0|rice, chicken,  soup|             1.0|          unemployed|                5|          1.0|           1|           2|         5.0|                   3.0| 1.0|   1.0|        1|           1165.0|            345| car racing|          5|       1|           1315|          187|       0.6|\n",
      "|3.654|     1|        1|             610|         3.0|         420.0|     2|chocolate, chips,...|Stress, bored, anger|                       1.0| 3.0|                           1|    1.0|I eat about three...|                 2|  2.0|I eat out more th...|                   1|                    2|         2|       2.0|          4|     1.0|             2.0|   Self employed |       Italian|                1|     1.0|chicken and biscu...|    1|        4|          4|         4|              5|Grains, Veggies, ...|Try to eat 5-6 sm...|               3|   4.0|          4|           4|           1.0|           2.0|Pasta, steak, chi...|             4.0|           Nurse RN |                4|          1.0|           1|           4|         4.0|                   3.0| 1.0|   1.0|        2|            725.0|            690|Basketball |          4|       2|            900|          155|     0.913|\n",
      "|  3.2|     1|        1|             430|         3.0|         420.0|     2|Pizza, Mac and ch...|             Boredom|                       2.0| 2.0|                           2|    2.0|College diet, che...|                 2|  2.0|Accepting cheap a...|                   1|                    3|         2|       3.0|          5|     3.0|             2.0|        Mechanic |      Turkish |                3|     1.0|Beef stroganoff, ...|    2|        4|          4|         5|              7|Fresh fruits& veg...|Healthy, fresh ve...|               2|   6.0|          5|           5|           2.0|           2.0|Grilled chicken \\...|             4.0|Special Education...|                2|          1.0|           1|           2|         5.0|                   5.0| 1.0|   2.0|        5|            725.0|            690|     Others|          3|       1|           1315|Not sure, 240|       0.8|\n",
      "|  3.5|     1|        1|             720|         2.0|         420.0|     2|Ice cream, chocol...|Stress, boredom, ...|                       1.0| 1.0|                           1|    2.0|I try to eat heal...|                 2|  2.0|I have eaten gene...|                   3|                    4|         2|       2.0|          4|     1.0|             4.0|               IT|      Italian |                1|     3.0|Pasta, chicken te...|    1|        4|          4|         4|              6|A lean protein su...|Ideally I would l...|               2|   6.0|          2|           5|           1.0|           1.0|Chicken Parmesan,...|             5.0|Substance Abuse C...|                3|          1.0|           1|           4|         2.0|                   4.0| 1.0|   1.0|        4|            940.0|            500|   Softball|          4|       2|            760|          190|     0.875|\n",
      "| 2.25|     1|        1|             610|         3.0|         980.0|     2|Candy, brownies a...|None, i don't eat...|                       4.0| 3.0|                           4|    0.0|My current diet i...|                 2|  2.0|Eating rice every...|                   1|                    3|         1|       3.0|          4|     2.0|             1.0|      Taxi Driver|       African|                6|     3.0|Fries, plaintain ...|    1|        2|          2|         2|              4|Requires veggies,...|My ideal diet is ...|               2|   1.0|          5|           5|           4.0|           2.0|Anything they'd w...|             1.0|        Hair Braider|                1|          1.0|           2|           5|         5.0|                   5.0| 1.0|   2.0|        4|            940.0|            345|      None.|          1|       2|           1315|          190|     0.562|\n",
      "+-----+------+---------+----------------+------------+--------------+------+--------------------+--------------------+--------------------------+----+----------------------------+-------+--------------------+------------------+-----+--------------------+--------------------+---------------------+----------+----------+-----------+--------+----------------+-----------------+--------------+-----------------+--------+--------------------+-----+---------+-----------+----------+---------------+--------------------+--------------------+----------------+------+-----------+------------+--------------+--------------+--------------------+----------------+--------------------+-----------------+-------------+------------+------------+------------+----------------------+----+------+---------+-----------------+---------------+-----------+-----------+--------+---------------+-------------+----------+\n",
      "only showing top 5 rows\n",
      "\n"
     ]
    }
   ],
   "source": [
    "food.show(5)"
   ]
  },
  {
   "cell_type": "markdown",
   "metadata": {},
   "source": [
    "#### GroupBy type_sport and  cofee"
   ]
  },
  {
   "cell_type": "code",
   "execution_count": 31,
   "metadata": {
    "scrolled": true
   },
   "outputs": [
    {
     "name": "stdout",
     "output_type": "stream",
     "text": [
      "+--------------------+------+-----+\n",
      "|         type_sports|coffee|count|\n",
      "+--------------------+------+-----+\n",
      "|          car racing|     1|    1|\n",
      "|             rowing |     2|    1|\n",
      "|  Tennis, Basketball|     2|    1|\n",
      "|             Dancing|     2|    1|\n",
      "|                crew|     2|    1|\n",
      "|     Gaelic Football|     2|    1|\n",
      "|      none organized|     2|    1|\n",
      "|         Basketball |     2|    1|\n",
      "|   Volleyball, Track|     2|    1|\n",
      "|             Fotball|     2|    1|\n",
      "|       Marching Band|     2|    1|\n",
      "|              Hockey|     1|    2|\n",
      "|no particular eng...|     1|    1|\n",
      "|              Tennis|     1|    2|\n",
      "|No, I don't play ...|     2|    1|\n",
      "|            Lacrosse|     2|    2|\n",
      "|          volleyball|     2|    1|\n",
      "|                none|     1|    3|\n",
      "|   horse back riding|     1|    1|\n",
      "|              Hockey|     2|    5|\n",
      "+--------------------+------+-----+\n",
      "only showing top 20 rows\n",
      "\n"
     ]
    }
   ],
   "source": [
    "#group by\n",
    "file = food.groupBy('type_sports', 'coffee').count()\n",
    "file.show()"
   ]
  },
  {
   "cell_type": "markdown",
   "metadata": {},
   "source": [
    "#### Show schema"
   ]
  },
  {
   "cell_type": "code",
   "execution_count": 32,
   "metadata": {},
   "outputs": [
    {
     "name": "stdout",
     "output_type": "stream",
     "text": [
      "root\n",
      " |-- GPA: double (nullable = false)\n",
      " |-- Gender: long (nullable = true)\n",
      " |-- breakfast: long (nullable = true)\n",
      " |-- calories_chicken: long (nullable = true)\n",
      " |-- calories_day: double (nullable = false)\n",
      " |-- calories_scone: double (nullable = false)\n",
      " |-- coffee: long (nullable = true)\n",
      " |-- comfort_food: string (nullable = false)\n",
      " |-- comfort_food_reasons: string (nullable = false)\n",
      " |-- comfort_food_reasons_coded: double (nullable = false)\n",
      " |-- cook: double (nullable = false)\n",
      " |-- comfort_food_reasons_coded.1: long (nullable = true)\n",
      " |-- cuisine: double (nullable = false)\n",
      " |-- diet_current: string (nullable = false)\n",
      " |-- diet_current_coded: long (nullable = true)\n",
      " |-- drink: double (nullable = false)\n",
      " |-- eating_changes: string (nullable = false)\n",
      " |-- eating_changes_coded: long (nullable = true)\n",
      " |-- eating_changes_coded1: long (nullable = true)\n",
      " |-- eating_out: long (nullable = true)\n",
      " |-- employment: double (nullable = false)\n",
      " |-- ethnic_food: long (nullable = true)\n",
      " |-- exercise: double (nullable = false)\n",
      " |-- father_education: double (nullable = false)\n",
      " |-- father_profession: string (nullable = false)\n",
      " |-- fav_cuisine: string (nullable = false)\n",
      " |-- fav_cuisine_coded: long (nullable = true)\n",
      " |-- fav_food: double (nullable = false)\n",
      " |-- food_childhood: string (nullable = false)\n",
      " |-- fries: long (nullable = true)\n",
      " |-- fruit_day: long (nullable = true)\n",
      " |-- grade_level: long (nullable = true)\n",
      " |-- greek_food: long (nullable = true)\n",
      " |-- healthy_feeling: long (nullable = true)\n",
      " |-- healthy_meal: string (nullable = false)\n",
      " |-- ideal_diet: string (nullable = false)\n",
      " |-- ideal_diet_coded: long (nullable = true)\n",
      " |-- income: double (nullable = false)\n",
      " |-- indian_food: long (nullable = true)\n",
      " |-- italian_food: long (nullable = true)\n",
      " |-- life_rewarding: double (nullable = false)\n",
      " |-- marital_status: double (nullable = false)\n",
      " |-- meals_dinner_friend: string (nullable = false)\n",
      " |-- mother_education: double (nullable = false)\n",
      " |-- mother_profession: string (nullable = false)\n",
      " |-- nutritional_check: long (nullable = true)\n",
      " |-- on_off_campus: double (nullable = false)\n",
      " |-- parents_cook: long (nullable = true)\n",
      " |-- pay_meal_out: long (nullable = true)\n",
      " |-- persian_food: double (nullable = false)\n",
      " |-- self_perception_weight: double (nullable = false)\n",
      " |-- soup: double (nullable = false)\n",
      " |-- sports: double (nullable = false)\n",
      " |-- thai_food: long (nullable = true)\n",
      " |-- tortilla_calories: double (nullable = false)\n",
      " |-- turkey_calories: long (nullable = true)\n",
      " |-- type_sports: string (nullable = false)\n",
      " |-- veggies_day: long (nullable = true)\n",
      " |-- vitamins: long (nullable = true)\n",
      " |-- waffle_calories: long (nullable = true)\n",
      " |-- weight: string (nullable = false)\n",
      " |-- GPA_Scaled: double (nullable = true)\n",
      "\n"
     ]
    }
   ],
   "source": [
    "food.printSchema()"
   ]
  },
  {
   "cell_type": "markdown",
   "metadata": {},
   "source": [
    "#### iii. Load: Save analysis report"
   ]
  },
  {
   "cell_type": "code",
   "execution_count": 33,
   "metadata": {},
   "outputs": [
    {
     "name": "stdout",
     "output_type": "stream",
     "text": [
      "Successfully saved at  C:\\Users\\Abhijith P K\\Downloads\n"
     ]
    }
   ],
   "source": [
    "file = file.toPandas()\n",
    "file.to_csv('Output.txt', index=False)\n",
    "print('Successfully saved at ',os.getcwd())"
   ]
  }
 ],
 "metadata": {
  "kernelspec": {
   "display_name": "Python 3",
   "language": "python",
   "name": "python3"
  },
  "language_info": {
   "codemirror_mode": {
    "name": "ipython",
    "version": 3
   },
   "file_extension": ".py",
   "mimetype": "text/x-python",
   "name": "python",
   "nbconvert_exporter": "python",
   "pygments_lexer": "ipython3",
   "version": "3.8.5"
  }
 },
 "nbformat": 4,
 "nbformat_minor": 4
}
