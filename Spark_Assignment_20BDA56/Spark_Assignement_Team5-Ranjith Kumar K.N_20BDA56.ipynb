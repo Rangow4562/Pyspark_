{
 "cells": [
  {
   "cell_type": "markdown",
   "id": "15e6dfdb",
   "metadata": {
    "id": "15e6dfdb"
   },
   "source": [
    "# Pyspark - Food Dataset\n",
    "## 5. Food"
   ]
  },
  {
   "cell_type": "markdown",
   "id": "b872b52c",
   "metadata": {
    "id": "b872b52c"
   },
   "source": [
    "### Extract:  Load the data\n",
    "####  - Read data as csv via spark dataframe"
   ]
  },
  {
   "cell_type": "code",
   "execution_count": null,
   "id": "5137c2f3",
   "metadata": {
    "id": "5137c2f3"
   },
   "outputs": [],
   "source": [
    "# loading pyspark environments\n",
    "\n",
    "from random import random\n",
    "import os\n",
    "from pyspark.sql import SparkSession"
   ]
  },
  {
   "cell_type": "code",
   "execution_count": null,
   "id": "c961a53c-1a23-4ac0-adb3-8bd4769ffd53",
   "metadata": {
    "id": "c961a53c-1a23-4ac0-adb3-8bd4769ffd53"
   },
   "outputs": [],
   "source": [
    "# importing spark session\n",
    "\n",
    "spark_session = SparkSession.builder.master(\"local\").\\\n",
    "        appName(\"SparkApplication\").\\\n",
    "        config(\"spark.driver.bindAddress\",\"localhost\").\\\n",
    "        config(\"spark.ui.port\",\"4041\").\\\n",
    "        getOrCreate()\n",
    "sc = spark_session.sparkContext"
   ]
  },
  {
   "cell_type": "code",
   "execution_count": null,
   "id": "378fce51-c206-495c-9678-9db9b17b1749",
   "metadata": {
    "id": "378fce51-c206-495c-9678-9db9b17b1749"
   },
   "outputs": [],
   "source": [
    "# loading dataset using spark dataframe:\n",
    "\n",
    "data = spark_session.read.load(\"D:/Pyspark notes/food_coded.csv\",format=\"csv\", sep=\",\", inferSchema=\"true\", header=\"true\")"
   ]
  },
  {
   "cell_type": "code",
   "execution_count": null,
   "id": "e1560036",
   "metadata": {
    "id": "e1560036",
    "outputId": "91af107a-8772-4b3e-eff4-67045d13b400"
   },
   "outputs": [
    {
     "name": "stdout",
     "output_type": "stream",
     "text": [
      "root\n",
      " |-- GPA: string (nullable = true)\n",
      " |-- Gender: string (nullable = true)\n",
      " |-- breakfast: string (nullable = true)\n",
      " |-- calories_chicken: string (nullable = true)\n",
      " |-- calories_day: string (nullable = true)\n",
      " |-- calories_scone: string (nullable = true)\n",
      " |-- coffee: string (nullable = true)\n",
      " |-- comfort_food: string (nullable = true)\n",
      " |-- comfort_food_reasons: string (nullable = true)\n",
      " |-- comfort_food_reasons_coded9: string (nullable = true)\n",
      " |-- cook: string (nullable = true)\n",
      " |-- comfort_food_reasons_coded11: integer (nullable = true)\n",
      " |-- cuisine: string (nullable = true)\n",
      " |-- diet_current: string (nullable = true)\n",
      " |-- diet_current_coded: string (nullable = true)\n",
      " |-- drink: string (nullable = true)\n",
      " |-- eating_changes: string (nullable = true)\n",
      " |-- eating_changes_coded: string (nullable = true)\n",
      " |-- eating_changes_coded1: string (nullable = true)\n",
      " |-- eating_out: string (nullable = true)\n",
      " |-- employment: string (nullable = true)\n",
      " |-- ethnic_food: string (nullable = true)\n",
      " |-- exercise: string (nullable = true)\n",
      " |-- father_education: string (nullable = true)\n",
      " |-- father_profession: string (nullable = true)\n",
      " |-- fav_cuisine: string (nullable = true)\n",
      " |-- fav_cuisine_coded: string (nullable = true)\n",
      " |-- fav_food: string (nullable = true)\n",
      " |-- food_childhood: string (nullable = true)\n",
      " |-- fries: string (nullable = true)\n",
      " |-- fruit_day: string (nullable = true)\n",
      " |-- grade_level: integer (nullable = true)\n",
      " |-- greek_food: integer (nullable = true)\n",
      " |-- healthy_feeling: integer (nullable = true)\n",
      " |-- healthy_meal: string (nullable = true)\n",
      " |-- ideal_diet: string (nullable = true)\n",
      " |-- ideal_diet_coded: string (nullable = true)\n",
      " |-- income: string (nullable = true)\n",
      " |-- indian_food: integer (nullable = true)\n",
      " |-- italian_food: integer (nullable = true)\n",
      " |-- life_rewarding: string (nullable = true)\n",
      " |-- marital_status: string (nullable = true)\n",
      " |-- meals_dinner_friend: string (nullable = true)\n",
      " |-- mother_education: string (nullable = true)\n",
      " |-- mother_profession: string (nullable = true)\n",
      " |-- nutritional_check: integer (nullable = true)\n",
      " |-- on_off_campus: string (nullable = true)\n",
      " |-- parents_cook: integer (nullable = true)\n",
      " |-- pay_meal_out: integer (nullable = true)\n",
      " |-- persian_food: string (nullable = true)\n",
      " |-- self_perception_weight: string (nullable = true)\n",
      " |-- soup: string (nullable = true)\n",
      " |-- sports: string (nullable = true)\n",
      " |-- thai_food: integer (nullable = true)\n",
      " |-- tortilla_calories: string (nullable = true)\n",
      " |-- turkey_calories: integer (nullable = true)\n",
      " |-- type_sports: string (nullable = true)\n",
      " |-- veggies_day: integer (nullable = true)\n",
      " |-- vitamins: string (nullable = true)\n",
      " |-- waffle_calories: integer (nullable = true)\n",
      " |-- weight: string (nullable = true)\n",
      "\n"
     ]
    }
   ],
   "source": [
    "# viewing dtypes \n",
    "data.printSchema()"
   ]
  },
  {
   "cell_type": "code",
   "execution_count": null,
   "id": "f2ebfd93",
   "metadata": {
    "id": "f2ebfd93"
   },
   "outputs": [],
   "source": [
    "# No of col and names\n",
    "header = data.first()"
   ]
  },
  {
   "cell_type": "code",
   "execution_count": null,
   "id": "facfaf4f",
   "metadata": {
    "id": "facfaf4f",
    "outputId": "6e767ed2-ebe5-4af3-9f2e-ca42e57a8363"
   },
   "outputs": [
    {
     "name": "stdout",
     "output_type": "stream",
     "text": [
      "Row(GPA='2.4', Gender='2', breakfast='1', calories_chicken='430', calories_day='nan', calories_scone='315', coffee='1', comfort_food='none', comfort_food_reasons='we dont have comfort ', comfort_food_reasons_coded9='9', cook='2', comfort_food_reasons_coded11=9, cuisine='nan', diet_current='eat good and exercise', diet_current_coded='1', drink='1', eating_changes='eat faster ', eating_changes_coded='1', eating_changes_coded1='1', eating_out='3', employment='3', ethnic_food='1', exercise='1', father_education='5', father_profession='profesor ', fav_cuisine='Arabic cuisine', fav_cuisine_coded='3', fav_food='1', food_childhood='rice  and chicken ', fries='2', fruit_day='5', grade_level=2, greek_food=5, healthy_feeling=2, healthy_meal='looks not oily ', ideal_diet='being healthy ', ideal_diet_coded='8', income='5', indian_food=5, italian_food=5, life_rewarding='1', marital_status='1', meals_dinner_friend='rice, chicken,  soup', mother_education='1', mother_profession='unemployed', nutritional_check=5, on_off_campus='1', parents_cook=1, pay_meal_out=2, persian_food='5', self_perception_weight='3', soup='1', sports='1', thai_food=1, tortilla_calories='1165', turkey_calories=345, type_sports='car racing', veggies_day=5, vitamins='1', waffle_calories=1315, weight='187')\n"
     ]
    }
   ],
   "source": [
    "print(header)"
   ]
  },
  {
   "cell_type": "markdown",
   "id": "9ee42c36",
   "metadata": {
    "id": "9ee42c36"
   },
   "source": [
    "### Transform: Exploratory data analysis using spark df\n"
   ]
  },
  {
   "cell_type": "markdown",
   "id": "d658f497",
   "metadata": {
    "id": "d658f497"
   },
   "source": [
    "#### - Unique records count"
   ]
  },
  {
   "cell_type": "code",
   "execution_count": null,
   "id": "e952b71a",
   "metadata": {
    "id": "e952b71a",
    "outputId": "6a214246-6723-4939-8660-a293de1eba33"
   },
   "outputs": [
    {
     "name": "stdout",
     "output_type": "stream",
     "text": [
      "+---------------+------+--------------------+----------------+------------+--------------+------+--------------------+--------------------+---------------------------+----+----------------------------+-------+--------------------+------------------+-----+--------------------+--------------------+---------------------+----------+----------+-----------+--------+----------------+--------------------+--------------------+-----------------+--------+--------------------+-----+---------+-----------+----------+---------------+--------------------+--------------------+----------------+------+-----------+------------+--------------+--------------+--------------------+----------------+--------------------+-----------------+-------------+------------+------------+------------+----------------------+----+------+---------+-----------------+---------------+--------------------+-----------+--------+---------------+--------------------+\n",
      "|            GPA|Gender|           breakfast|calories_chicken|calories_day|calories_scone|coffee|        comfort_food|comfort_food_reasons|comfort_food_reasons_coded9|cook|comfort_food_reasons_coded11|cuisine|        diet_current|diet_current_coded|drink|      eating_changes|eating_changes_coded|eating_changes_coded1|eating_out|employment|ethnic_food|exercise|father_education|   father_profession|         fav_cuisine|fav_cuisine_coded|fav_food|      food_childhood|fries|fruit_day|grade_level|greek_food|healthy_feeling|        healthy_meal|          ideal_diet|ideal_diet_coded|income|indian_food|italian_food|life_rewarding|marital_status| meals_dinner_friend|mother_education|   mother_profession|nutritional_check|on_off_campus|parents_cook|pay_meal_out|persian_food|self_perception_weight|soup|sports|thai_food|tortilla_calories|turkey_calories|         type_sports|veggies_day|vitamins|waffle_calories|              weight|\n",
      "+---------------+------+--------------------+----------------+------------+--------------+------+--------------------+--------------------+---------------------------+----+----------------------------+-------+--------------------+------------------+-----+--------------------+--------------------+---------------------+----------+----------+-----------+--------+----------------+--------------------+--------------------+-----------------+--------+--------------------+-----+---------+-----------+----------+---------------+--------------------+--------------------+----------------+------+-----------+------------+--------------+--------------+--------------------+----------------+--------------------+-----------------+-------------+------------+------------+------------+----------------------+----+------+---------+-----------------+---------------+--------------------+-----------+--------+---------------+--------------------+\n",
      "|            2.4|     2|                   1|             430|         nan|           315|     1|                none|we dont have comf...|                          9|   2|                           9|    nan|eat good and exer...|                 1|    1|         eat faster |                   1|                    1|         3|         3|          1|       1|               5|           profesor |      Arabic cuisine|                3|       1|  rice  and chicken |    2|        5|          2|         5|              2|     looks not oily |      being healthy |               8|     5|          5|           5|             1|             1|rice, chicken,  soup|               1|          unemployed|                5|            1|           1|           2|           5|                     3|   1|     1|        1|             1165|            345|          car racing|          5|       1|           1315|                 187|\n",
      "|          3.654|     1|                   1|             610|           3|           420|     2|chocolate, chips,...|Stress, bored, anger|                          1|   3|                           1|      1|I eat about three...|                 2|    2|I eat out more th...|                   1|                    2|         2|         2|          4|       1|               2|      Self employed |             Italian|                1|       1|chicken and biscu...|    1|        4|          4|         4|              5|Grains, Veggies, ...|Try to eat 5-6 sm...|               3|     4|          4|           4|             1|             2|Pasta, steak, chi...|               4|           Nurse RN |                4|            1|           1|           4|           4|                     3|   1|     1|        2|              725|            690|         Basketball |          4|       2|            900|                 155|\n",
      "|            3.3|     1|                   1|             720|           4|           420|     2|frozen yogurt, pi...|     stress, sadness|                          1|   1|                           1|      3|toast and fruit f...|                 3|    1|sometimes choosin...|                   1|                    3|         2|         3|          5|       2|               2|       owns business|             italian|                1|       3|mac and cheese, p...|    1|        5|          3|         5|              6|usually includes ...|i would say my id...|               6|     6|          5|           5|             7|             2|chicken and rice ...|               2|       owns business|                4|            2|           1|           3|           5|                     6|   1|     2|        5|             1165|            500|                none|          5|       1|            900|I'm not answering...|\n",
      "|            3.2|     1|                   1|             430|           3|           420|     2|Pizza, Mac and ch...|             Boredom|                          2|   2|                           2|      2|College diet, che...|                 2|    2|Accepting cheap a...|                   1|                    3|         2|         3|          5|       3|               2|           Mechanic |            Turkish |                3|       1|Beef stroganoff, ...|    2|        4|          4|         5|              7|Fresh fruits& veg...|Healthy, fresh ve...|               2|     6|          5|           5|             2|             2|    Grilled chicken |            null|                null|             null|         null|        null|        null|        null|                  null|null|  null|     null|             null|           null|                null|       null|    null|           null|                null|\n",
      "| Stuffed Shells|  null|                null|            null|        null|          null|  null|                null|                null|                       null|null|                        null|   null|                null|              null| null|                null|                null|                 null|      null|      null|       null|    null|            null|                null|                null|             null|    null|                null| null|     null|       null|      null|           null|                null|                null|            null|  null|       null|        null|          null|          null|                null|            null|                null|             null|         null|        null|        null|        null|                  null|null|  null|     null|             null|           null|                null|       null|    null|           null|                null|\n",
      "|Homemade Chili\"|     4|Special Education...|               2|           1|             1|     2|                   5|                   5|                          1|   2|                           5|    725|                 690|               nan|    3|                   1|                1315|        Not sure, 240|      null|      null|       null|    null|            null|                null|                null|             null|    null|                null| null|     null|       null|      null|           null|                null|                null|            null|  null|       null|        null|          null|          null|                null|            null|                null|             null|         null|        null|        null|        null|                  null|null|  null|     null|             null|           null|                null|       null|    null|           null|                null|\n",
      "|            3.5|     1|                   1|             720|           2|           420|     2|Ice cream, chocol...|Stress, boredom, ...|                          1|   1|                           1|      2|I try to eat heal...|                 2|    2|I have eaten gene...|                   3|                    4|         2|         2|          4|       1|               4|                  IT|            Italian |                1|       3|Pasta, chicken te...|    1|        4|          4|         4|              6|A lean protein su...|Ideally I would l...|               2|     6|          2|           5|             1|             1|Chicken Parmesan,...|               5|Substance Abuse C...|                3|            1|           1|           4|           2|                     4|   1|     1|        4|              940|            500|            Softball|          4|       2|            760|                 190|\n",
      "|           2.25|     1|                   1|             610|           3|           980|     2|Candy, brownies a...|None, i don't eat...|                          4|   3|                           4|    nan|My current diet i...|                 2|    2|Eating rice every...|                   1|                    3|         1|         3|          4|       2|               1|         Taxi Driver|             African|                6|       3|Fries, plaintain ...|    1|        2|          2|         2|              4|Requires veggies,...|My ideal diet is ...|               2|     1|          5|           5|             4|             2|Anything they'd w...|               1|        Hair Braider|                1|            1|           2|           5|           5|                     5|   1|     2|        4|              940|            345|               None.|          1|       2|           1315|                 190|\n",
      "|            3.8|     2|                   1|             610|           3|           420|     2|Chocolate, ice cr...|     stress, boredom|                          1|   2|                           1|      1|I eat a lot of ch...|                 3|    1|I started eating ...|                   2|                    5|         2|         3|          5|       1|               4|          Assembler |                Thai|                4|       1|grilled chicken, ...|    1|        4|          4|         5|              4|Protein, vegetabl...|I would ideally l...|               2|     4|          5|           5|             8|             1|Grilled chicken, ...|               4|          Journalist|                4|            2|           2|           2|           5|                     4|   1|     1|        5|              940|            690|              soccer|          4|       1|           1315|                 180|\n",
      "|            3.3|     1|                   1|             720|           3|           420|     1|Ice cream, cheese...|I eat comfort foo...|                          1|   3|                           1|      1|I eat a very heal...|                 1|    2|Freshmen year i a...|                   2|                    5|         2|         2|          2|       2|               3|        Business guy|Anything american...|                5|       1|chicken, cheesey ...|    1|        5|          2|         3|              3|A healthy meal ha...|My ideal diet is ...|               2|     5|          1|           3|             3|             1|chicken, steak, p...|               2|                cook|                4|            1|           1|           5|           1|                     3|   1|     2|        1|              725|            500|                none|          4|       2|           1315|                 137|\n",
      "|            3.3|     1|                   1|             430|         nan|           420|     1|Donuts, ice cream...|            Boredom |                          2|   3|                           2|      1|I eat whatever I ...|                 1|    1|        I snack less|                   2|                    8|         5|         2|          5|     nan|               5|High School Princ...|             Seafood|                1|       3|   Shrimp, spaghetti|    1|        4|          1|         5|              7|            Colorful|The same as it is...|               6|     5|          5|           5|             8|             2|  Pasta, Fish, Steak|               5|Elementary School...|                2|            1|           2|           3|           5|                     4|   2|     2|        5|              725|            345|                none|          3|       2|            760|                 180|\n",
      "|            3.3|     1|                   1|             430|           3|           315|     2|Mac and cheese, c...|Stress, anger and...|                          1|   3|                           1|      1|I eat healthy all...|                 1|    1|I cook a lot of m...|                   1|                    3|         3|         3|          5|       1|               5|commissioner of e...|            Italian |                1|       1|Pasta, Eggs, Panc...|    1|        5|          1|         5|              3|Chicken and rice ...|Lots of protein, ...|               2|     4|          4|           5|             3|             2|pasta salad and b...|               5|  Pharmaceutical rep|                5|            1|           3|           3|           4|                     3|   1|     1|        4|              580|            345|        field hockey|          5|       1|            900|                 125|\n",
      "|            3.5|     1|                   1|             610|           3|           980|     2|Pasta, grandma ho...|            Boredom |                          2|   1|                           2|      1|i eat very health...|                 1|    2|                Nun |                   3|                    4|         2|         1|          5|       1|               2|                 Idk|Orange chicken an...|                4|       1|             Chicken|    1|        5|          3|         1|              9|Chicken, and vegg...|      Chicken, fish |               7|     3|          1|           5|             8|             1|chicken al king, ...|               4|     Chidos Cleaners|                2|            3|           1|           2|           2|                     1|   1|     1|        2|              940|            345|              soccer|          5|       2|            900|                 116|\n",
      "|          3.904|     1|                   1|             720|           4|           420|     2|chocolate, pasta,...|sadness, stress, ...|                          3|   3|                           3|      1|I am very health ...|                 1|    1|         Less meat. |                   4|                    5|         1|         2|          5|       1|               3|        Home Marker |             Italian|                1|       1|Scalloped potatoe...|    1|        5|          2|         5|              1|lean protein, veg...|More healthy vari...|               2|     5|          5|           5|             1|             2|Chicken parm, Fis...|               4|     Court Reporter |                5|            1|           1|           3|           5|                     2|   1|     1|        5|              940|            500|             Running|          5|       1|            900|                 110|\n",
      "|            3.4|     2|                   1|             430|           3|           420|     2|Cookies, popcorn,...|Sadness, boredom,...|                          3|   5|                           3|      1|I focus mostly on...|                 1|    2|I have been eatin...|                   2|                    5|         1|         3|          4|       3|               3|     Shirt designer |            Chinese |                4|       3|Pizza, chicken wi...|    1|        4|          1|         3|              9|A salad with a re...|My ideal diet wou...|               1|     5|          3|           4|             9|             2|Cereal, pizza, to...|               4|Child care provider |                2|            1|           2|           2|           3|                     5|   2|     1|        3|              940|            500|Soccer and basket...|          3|       2|            575|                 264|\n",
      "|            3.6|     1|                   1|             610|           3|           420|     2|ice cream, cake, ...|stress,  boredom,...|                          1|   2|                           1|      1|Not as healthy wh...|                 2|    2|not as healthy be...|                   1|                    3|         4|         2|          5|       2|               2|      business owner|             italian|                1|       1|steak, lasagna, crab|    1|        5|          3|         4|              8|Lots of vegetabls...|organic/healthy. ...|               2|     5|          3|           5|            10|             2|pasta, chicken, s...|               4|      business owner|                2|            2|           2|           3|           3|                     3|   1|     1|        5|             1165|            850|intramural volley...|          5|       2|           1315|                 123|\n",
      "|            3.1|     2|                   1|             610|           3|           420|     2|Pizza, fruit, spa...|Friends, environm...|                          2|   3|                           2|      1|Making sure I hav...|                 1|    2|I knew I would ea...|                   3|                    4|         2|         3|          4|       2|               4|   Commidity trader |            Chinese |                4|       3|               Pizza|    1|        5|          3|         4|              2|Green and not greasy|Eat a little less...|               1|     5|          2|           3|             1|             1|Pizza, chicken an...|               4|      Charity worker|                2|            2|           2|           3|           1|                     3|   1|     1|        4|              940|            500|              Hockey|          5|       1|            900|                 185|\n",
      "|            nan|     2|                   2|             430|         nan|           980|     2|cookies, donuts, ...|             boredom|                          2|   4|                           2|      1|I like a lot of f...|                 2|    2|                none|                   3|                    4|         4|         3|          1|       1|               5|        Hockey Coach|        italian food|                1|       2|               pizza|    1|        3|          1|         1|              6|chicken, veggies,...|I wish I ate lots...|               2|     4|          1|           5|           nan|             2|pizza buffalo chi...|               4|           Librarian|                1|            1|           2|           3|           1|                     2|   2|     1|        1|              940|            345|              Hockey|          1|       2|           1315|                 180|\n",
      "|              4|     1|                   1|             265|           3|           420|     1|Saltfish, Candy a...|             Stress |                          1|   3|                           1|    nan| I eat very healthy |                 1|    1|         More Water |                   2|                    5|         1|         2|          2|       2|               1|       Construction |           Jamaican |                7|       1|Curry, Stew Chick...|    1|        5|          1|         2|              7|Not too much carb...|Vegetables and Fr...|               2|     1|          5|           3|             9|             2|Curry goat, saltf...|               2|              Police|                4|            1|           2|           2|           2|                     3|   1|     2|        1|              580|            345|                 nan|          5|       1|            760|                 145|\n",
      "|            3.6|     2|                   1|             430|           3|           980|     2|chips, cookies, i...|I usually only ea...|                          2|   3|                           2|      1|My current diet i...|                 3|    2|I would say i jus...|                   1|                    2|         2|         3|          4|       1|               2|self employed con...|American or Italian |                5|       3|chicken fingers, ...|    1|        3|          1|         3|              8|for me usually a ...|I like how my die...|               1|     6|          3|           5|             7|             2|Grilled chicken o...|               2|    stay at home mom|                4|            1|           1|           6|           2|                     2|   1|     1|        3|              940|            500|              hockey|          4|       2|            900|                 170|\n",
      "+---------------+------+--------------------+----------------+------------+--------------+------+--------------------+--------------------+---------------------------+----+----------------------------+-------+--------------------+------------------+-----+--------------------+--------------------+---------------------+----------+----------+-----------+--------+----------------+--------------------+--------------------+-----------------+--------+--------------------+-----+---------+-----------+----------+---------------+--------------------+--------------------+----------------+------+-----------+------------+--------------+--------------+--------------------+----------------+--------------------+-----------------+-------------+------------+------------+------------+----------------------+----+------+---------+-----------------+---------------+--------------------+-----------+--------+---------------+--------------------+\n",
      "only showing top 20 rows\n",
      "\n",
      "None\n"
     ]
    }
   ],
   "source": [
    "print(data.show())"
   ]
  },
  {
   "cell_type": "code",
   "execution_count": null,
   "id": "36f19fe9",
   "metadata": {
    "id": "36f19fe9",
    "outputId": "d80866e5-e749-46a2-c651-b59997ea45af"
   },
   "outputs": [
    {
     "name": "stdout",
     "output_type": "stream",
     "text": [
      "Distinct Count: 138\n"
     ]
    }
   ],
   "source": [
    "print(\"Distinct Count: \" + str(data.distinct().count()))"
   ]
  },
  {
   "cell_type": "code",
   "execution_count": null,
   "id": "089be84c",
   "metadata": {
    "id": "089be84c",
    "outputId": "72336d7e-9b36-4eaa-f6a8-f2d296bd1991"
   },
   "outputs": [
    {
     "data": {
      "text/plain": [
       "DataFrame[GPA: bigint, Gender: bigint, breakfast: bigint, calories_chicken: bigint, calories_day: bigint, calories_scone: bigint, coffee: bigint, comfort_food: bigint, comfort_food_reasons: bigint, comfort_food_reasons_coded9: bigint, cook: bigint, comfort_food_reasons_coded11: bigint, cuisine: bigint, diet_current: bigint, diet_current_coded: bigint, drink: bigint, eating_changes: bigint, eating_changes_coded: bigint, eating_changes_coded1: bigint, eating_out: bigint, employment: bigint, ethnic_food: bigint, exercise: bigint, father_education: bigint, father_profession: bigint, fav_cuisine: bigint, fav_cuisine_coded: bigint, fav_food: bigint, food_childhood: bigint, fries: bigint, fruit_day: bigint, grade_level: bigint, greek_food: bigint, healthy_feeling: bigint, healthy_meal: bigint, ideal_diet: bigint, ideal_diet_coded: bigint, income: bigint, indian_food: bigint, italian_food: bigint, life_rewarding: bigint, marital_status: bigint, meals_dinner_friend: bigint, mother_education: bigint, mother_profession: bigint, nutritional_check: bigint, on_off_campus: bigint, parents_cook: bigint, pay_meal_out: bigint, persian_food: bigint, self_perception_weight: bigint, soup: bigint, sports: bigint, thai_food: bigint, tortilla_calories: bigint, turkey_calories: bigint, type_sports: bigint, veggies_day: bigint, vitamins: bigint, waffle_calories: bigint, weight: bigint]"
      ]
     },
     "execution_count": 9,
     "metadata": {},
     "output_type": "execute_result"
    }
   ],
   "source": [
    "from pyspark.sql.functions import col, countDistinct\n",
    "\n",
    "data.agg(*(countDistinct(col(c)).alias(c) for c in data.columns))"
   ]
  },
  {
   "cell_type": "code",
   "execution_count": null,
   "id": "c27161fc",
   "metadata": {
    "id": "c27161fc",
    "outputId": "b3a23df6-52ed-48f3-ed99-f442075fd26f"
   },
   "outputs": [
    {
     "name": "stdout",
     "output_type": "stream",
     "text": [
      "+--------------+------+--------------------+----------------+------------+--------------+------+--------------------+--------------------+---------------------------+----+----------------------------+-------+--------------------+------------------+-----+--------------------+--------------------+---------------------+----------+----------+-----------+--------+----------------+--------------------+--------------------+-----------------+--------+--------------------+-----+---------+-----------+----------+---------------+--------------------+--------------------+----------------+------+-----------+------------+--------------+--------------+--------------------+----------------+--------------------+-----------------+-------------+------------+------------+------------+----------------------+----+------+---------+-----------------+---------------+--------------------+-----------+--------+---------------+------+\n",
      "|           GPA|Gender|           breakfast|calories_chicken|calories_day|calories_scone|coffee|        comfort_food|comfort_food_reasons|comfort_food_reasons_coded9|cook|comfort_food_reasons_coded11|cuisine|        diet_current|diet_current_coded|drink|      eating_changes|eating_changes_coded|eating_changes_coded1|eating_out|employment|ethnic_food|exercise|father_education|   father_profession|         fav_cuisine|fav_cuisine_coded|fav_food|      food_childhood|fries|fruit_day|grade_level|greek_food|healthy_feeling|        healthy_meal|          ideal_diet|ideal_diet_coded|income|indian_food|italian_food|life_rewarding|marital_status| meals_dinner_friend|mother_education|   mother_profession|nutritional_check|on_off_campus|parents_cook|pay_meal_out|persian_food|self_perception_weight|soup|sports|thai_food|tortilla_calories|turkey_calories|         type_sports|veggies_day|vitamins|waffle_calories|weight|\n",
      "+--------------+------+--------------------+----------------+------------+--------------+------+--------------------+--------------------+---------------------------+----+----------------------------+-------+--------------------+------------------+-----+--------------------+--------------------+---------------------+----------+----------+-----------+--------+----------------+--------------------+--------------------+-----------------+--------+--------------------+-----+---------+-----------+----------+---------------+--------------------+--------------------+----------------+------+-----------+------------+--------------+--------------+--------------------+----------------+--------------------+-----------------+-------------+------------+------------+------------+----------------------+----+------+---------+-----------------+---------------+--------------------+-----------+--------+---------------+------+\n",
      "|             3|     2|                   1|             610|           4|           980|     2|Chicken fingers, ...|            Boredom |                          2|   4|                           2|      1|Very healthy. Goo...|                 1|    2|    A lot healthier |                   2|                    5|         2|         3|          3|       1|               5|            Dentist |            Mexican |                2|       1|               Steak|    1|        5|          1|         3|              9|Salad, vegetable,...|     My current diet|               6|     6|          3|           4|             9|             2|Steak, lobster, c...|               5|            Dentist |                4|            1|           1|           6|           2|                     2|   1|     1|        3|             1165|            500|           Lacrosse |          5|       1|           1315|   175|\n",
      "|           2.8|     1|                   2|             720|           3|           420|     2|chocolate, ice cr...|             boredom|                          2|   3|                           2|      1|vegetarian, eat b...|                 1|    1|none, I have dorm...|                   3|                    4|         2|         3|          2|       1|               4|              VP of |      don't have one|                0|       3|Chicken parm, bee...|    1|        4|          1|         3|              8|good portions, lo...|healthy, colorful...|               2|     6|          3|           3|             5|             1|               Pasta|            null|                null|             null|         null|        null|        null|        null|                  null|null|  null|     null|             null|           null|                null|       null|    null|           null|  null|\n",
      "|           3.1|     2|                   2|             610|           3|           980|     2|pizza, pretzels, ...|boredom, anger, h...|                          2|   3|                           2|      1|I eat somewhat he...|                 2|    2|I eat a lot less ...|                   1|                    3|         1|         2|          4|       2|             nan|      Police Officer|                Lean|                0|       2|Pizza Mac n Chees...|    1|        5|          1|         2|              3|               salad|I would like to c...|               7|     5|          3|           5|             2|             1|Pasta, Steak, Chi...|               4|      Runs a Daycare|                2|            1|           1|           2|           2|                     3|   1|     2|        3|             1165|            345|                 nan|          5|       1|           1315|   140|\n",
      "|          3.35|     1|                   2|             610|           2|           315|     2|chips, dip, fries...|       bored, stress|                          2|   3|                           2|    nan|What ever the din...|                 2|    2|when i eat has ch...|                   4|                   10|         5|         3|          3|       1|               1|        union worker|             italian|                1|       1|steak and cheesy ...|    1|        4|          1|         3|              8|the different col...|My ideal diet is ...|               5|     3|          2|           5|             8|             1|mac n cheese, ste...|               3|      factory worker|                3|            1|           2|           2|           2|                     3|   1|     1|        3|              940|            500|            softball|          4|       2|            900|   192|\n",
      "|           3.5|     2|                   2|             720|           4|           980|     2|Little Debbie sna...|                None|                          9| nan|                           9|      1|High protein and ...|                 2|    2|Willingly eating ...|                   2|                    5|         1|         2|          5|       1|               2|            handyman|             Mexican|                2|       1|Quesadilla, choco...|    1|        4|          3|         5|              7|High protein, hig...|Same as current d...|               6|     2|          5|           5|             1|             1|burritos, pasta, ...|             nan|        home cleaner|                5|            1|           1|           4|           5|                     2|   1|     2|        5|             1165|            850|                 nan|          4|       1|           1315|   175|\n",
      "|           3.2|     1|                   1|             430|           3|           315|     1|Chips, Mac and ch...|Stress, sadness, ...|                          1|   3|                           1|      1|My current diet i...|                 1|    2|I don't eat as he...|                   1|                    3|         1|         3|          4|       1|               5|            Dentist |            Italian |                1|       1|Pasta, pizza, mea...|    1|        5|          1|         3|              8|Balanced between ...|My ideal diet is ...|               3|     6|          2|           5|             8|             2|pasta, chicken pa...|               5|      school teacher|                3|            1|           1|           4|           2|                     3|   1|     1|        4|              725|            500|              soccer|          5|       2|            760|   145|\n",
      "|           3.9|     2|                   1|             720|           3|           420|     2|Chips sweets popcorn|             Boredom|                          2|   5|                           2|      1|No diet. I eat wh...|                 2|    2|More coffee less ...|                   1|                    7|         1|         3|          5|       1|               3|Contract negotiat...|             Chinese|                4|       1|         Sloppy joes|    1|        5|          1|         5|              1|     All food groups|Whatever makes me...|               8|     6|          4|           5|             3|             1|Chicken and veget...|               2|                none|                4|            1|           1|           3|           4|                     2|   1|     1|        5|             1165|            850|Rowing, Running, ...|          4|       2|           1315|   145|\n",
      "|           3.5|     1|                   1|             610|           3|           980|     2|Pasta, grandma ho...|            Boredom |                          2|   1|                           2|      1|i eat very health...|                 1|    2|                Nun |                   3|                    4|         2|         1|          5|       1|               2|                 Idk|Orange chicken an...|                4|       1|             Chicken|    1|        5|          3|         1|              9|Chicken, and vegg...|      Chicken, fish |               7|     3|          1|           5|             8|             1|chicken al king, ...|               4|     Chidos Cleaners|                2|            3|           1|           2|           2|                     1|   1|     1|        2|              940|            345|              soccer|          5|       2|            900|   116|\n",
      "|    Chocolate |  null|                null|            null|        null|          null|  null|                null|                null|                       null|null|                        null|   null|                null|              null| null|                null|                null|                 null|      null|      null|       null|    null|            null|                null|                null|             null|    null|                null| null|     null|       null|      null|           null|                null|                null|            null|  null|       null|        null|          null|          null|                null|            null|                null|             null|         null|        null|        null|        null|                  null|null|  null|     null|             null|           null|                null|       null|    null|           null|  null|\n",
      "|           3.7|     1|                   1|             610|           3|           420|     2|pizza, doughnuts,...|             boredom|                          2|   3|                           2|    nan|I eat out more of...|                 2|    2|I do not snack as...|                   1|                    8|         4|         2|          4|       1|               5|        Optometrist | Italian or Chinese |                1|       3|pizza, pasta, gri...|    1|        5|          2|         3|              7|a meal with a mea...|I wish I had the ...|               5|     6|          2|           5|             7|             1|spaghetti or past...|               2|          Homemaker |                3|            1|           2|           3|           1|                     4|   2|     1|        2|             1165|            500|           Softball |          5|       2|            900|   150|\n",
      "|           3.3|     2|                   2|             720|         nan|           420|     2|Chocolate, Chips,...|Stress, sadness, ...|                          1|   2|                           1|      1|My diet consists ...|                 2|    2|I have increased ...|                   2|                    5|         5|         2|          1|       3|               2|        Truck Driver|           Barbecue |                5|       1|Steak, Chicken Te...|    1|        1|          3|         1|              8|Chicken Salad wit...|A balance between...|               3|     3|          1|           5|             1|             2|Chicken, Pork Cho...|               3|Customer Service ...|                2|            1|           1|           3|           1|                     4|   1|     1|        1|             1165|            690|Football, Basketb...|          4|       2|            900|   190|\n",
      "|           3.8|     1|                   1|             430|           2|           420|     2|Candy, salty snac...|Stress, sadness, ...|                       null|   5|                           1|      1|moderately health...|                 1|    2| Late night snacking|                   1|                    2|         2|         3|          2|       1|               4|               Sales|             Italian|                1|       2|Spaghetti and chi...|    1|        5|          2|         2|              6|equal portions of...|Small portions, h...|               1|     6|          5|           5|             5|             2|Steak, salmon, ch...|               3|         Real Estate|                4|            1|           2|           3|           2|                     3|   1|     1|        2|              580|            345|          Ice hockey|          5|       2|            760|   128|\n",
      "|         3.904|     1|                   1|             720|           4|           420|     2|chocolate, pasta,...|sadness, stress, ...|                          3|   3|                           3|      1|I am very health ...|                 1|    1|         Less meat. |                   4|                    5|         1|         2|          5|       1|               3|        Home Marker |             Italian|                1|       1|Scalloped potatoe...|    1|        5|          2|         5|              1|lean protein, veg...|More healthy vari...|               2|     5|          5|           5|             1|             2|Chicken parm, Fis...|               4|     Court Reporter |                5|            1|           1|           3|           5|                     2|   1|     1|        5|              940|            500|             Running|          5|       1|            900|   110|\n",
      "|           3.8|     1|                   2|             610|           2|           420|     2|Macaroni and chee...|  Boredom and stress|                          2|   2|                           2|      1|I eat very basic ...|                 2|    2|Home cooked meals...|                   1|                    3|         3|         2|          2|       2|               5|             Teacher|            American|                5|       3|Pasta, chicken, p...|    1|        2|          3|         1|              5|Very colorful and...|Ideally I would e...|               2|     6|          1|           4|             2|             2|Pasta, chicken, p...|               5|             Teacher|                3|            2|           3|           3|           1|                     3|   1|     2|        1|              725|            500|                crew|          1|       2|            900|   135|\n",
      "|           3.5|     1|                   1|             610|           4|           420|     2|wine. mac and che...|boredom and sadness |                       null|   3|                           2|      1|My diet consists ...|                 2|    2|I have noticed th...|                   1|                    3|         2|         1|          4|       2|               4|         Accountant |            Italian |                1|       1|Stromboli Mac and...|    1|        5|          4|         5|              5|mainly protein an...|My ideal diet wou...|               6|     4|          3|           5|             7|             1|  pasta, fish, steak|               3|Radiological Tech...|                5|            3|           1|           4|           3|                     4|   1|     1|        5|              940|            500|            Softball|          5|       1|           1315|   156|\n",
      "|           3.2|     1|                   1|             610|         nan|           315|     2|      mac and cheese|             boredom|                          2|   2|                           2|      2|I don't follow a ...|                 2|    1|I snack more, hav...|                   1|                   11|         3|         3|          3|       2|               5|             Dentist|             Italian|                1|       3|Mac and Cheese, C...|    1|        3|          2|         3|              3|           vegtables|            No, diet|               6|     6|          1|           5|             3|             2|Lasagna, Steak, P...|             nan|        Periodontist|                1|            1|           2|           5|           1|                     2|   1|     2|        4|              725|            500|                None|          3|       2|            900|   112|\n",
      "|Curry Chicken\"|     2|Public Health Adv...|               3|           1|             3|     4|                   1|                   4|                          1| nan|                           4|    940|                 500|       basketball |    5|                   2|                1315|                  180|      null|      null|       null|    null|            null|                null|                null|             null|    null|                null| null|     null|       null|      null|           null|                null|                null|            null|  null|       null|        null|          null|          null|                null|            null|                null|             null|         null|        null|        null|        null|                  null|null|  null|     null|             null|           null|                null|       null|    null|           null|  null|\n",
      "|           3.9|     2|                   1|             720|           3|           315|     1|   Soup, pasta, cake|Depression, comfo...|                          3|   4|                           3|      6|Somewhat unhealth...|                 2|    2|When I was on cam...|                   2|                    5|         5|         3|          5|       2|               4|      Business Owner|             Italian|                1|     nan|Chicken parmigian...|    1|        5|          4|         5|              8|Well balanced wit...|My ideal diet wou...|               3|     6|          5|           5|             1|             2|Chicken parmigian...|               2|           Homemaker|                3|            4|           3|           6|           1|                     4|   1|     1|        5|             1165|            690|              Tennis|          4|       1|           1315|   185|\n",
      "|           3.7|     2|                   1|             610|           3|           420|     1|burgers, chips, c...|sadness, depression |                          3|   5|                           3|      2|           balanced |                 1|    1|          got worse |                   1|                    3|         1|         2|          3|       1|               4|         accountant |            italian |                1|       1|               pasta|    2|        4|          1|         4|              2|  pasta. veg, water |fruit, veg and pr...|               2|     6|          5|           5|             5|             1|       pasta, pizza |               4|       Underwiriter |                3|            1|           3|           5|           2|                     2|   1|     1|        4|              940|            850|   tennis soccer gym|          3|       1|           1315|   185|\n",
      "|     Chipotle |  null|                null|            null|        null|          null|  null|                null|                null|                       null|null|                        null|   null|                null|              null| null|                null|                null|                 null|      null|      null|       null|    null|            null|                null|                null|             null|    null|                null| null|     null|       null|      null|           null|                null|                null|            null|  null|       null|        null|          null|          null|                null|            null|                null|             null|         null|        null|        null|        null|                  null|null|  null|     null|             null|           null|                null|       null|    null|           null|  null|\n",
      "+--------------+------+--------------------+----------------+------------+--------------+------+--------------------+--------------------+---------------------------+----+----------------------------+-------+--------------------+------------------+-----+--------------------+--------------------+---------------------+----------+----------+-----------+--------+----------------+--------------------+--------------------+-----------------+--------+--------------------+-----+---------+-----------+----------+---------------+--------------------+--------------------+----------------+------+-----------+------------+--------------+--------------+--------------------+----------------+--------------------+-----------------+-------------+------------+------------+------------+----------------------+----+------+---------+-----------------+---------------+--------------------+-----------+--------+---------------+------+\n",
      "only showing top 20 rows\n",
      "\n"
     ]
    }
   ],
   "source": [
    "data.distinct().show()"
   ]
  },
  {
   "cell_type": "code",
   "execution_count": null,
   "id": "93c0469d",
   "metadata": {
    "id": "93c0469d",
    "outputId": "44d0924c-a136-4f64-b0dd-3a59c7920330"
   },
   "outputs": [
    {
     "data": {
      "text/plain": [
       "[('GPA', 'string'),\n",
       " ('Gender', 'string'),\n",
       " ('breakfast', 'string'),\n",
       " ('calories_chicken', 'string'),\n",
       " ('calories_day', 'string'),\n",
       " ('calories_scone', 'string'),\n",
       " ('coffee', 'string'),\n",
       " ('comfort_food', 'string'),\n",
       " ('comfort_food_reasons', 'string'),\n",
       " ('comfort_food_reasons_coded9', 'string'),\n",
       " ('cook', 'string'),\n",
       " ('comfort_food_reasons_coded11', 'int'),\n",
       " ('cuisine', 'string'),\n",
       " ('diet_current', 'string'),\n",
       " ('diet_current_coded', 'string'),\n",
       " ('drink', 'string'),\n",
       " ('eating_changes', 'string'),\n",
       " ('eating_changes_coded', 'string'),\n",
       " ('eating_changes_coded1', 'string'),\n",
       " ('eating_out', 'string'),\n",
       " ('employment', 'string'),\n",
       " ('ethnic_food', 'string'),\n",
       " ('exercise', 'string'),\n",
       " ('father_education', 'string'),\n",
       " ('father_profession', 'string'),\n",
       " ('fav_cuisine', 'string'),\n",
       " ('fav_cuisine_coded', 'string'),\n",
       " ('fav_food', 'string'),\n",
       " ('food_childhood', 'string'),\n",
       " ('fries', 'string'),\n",
       " ('fruit_day', 'string'),\n",
       " ('grade_level', 'int'),\n",
       " ('greek_food', 'int'),\n",
       " ('healthy_feeling', 'int'),\n",
       " ('healthy_meal', 'string'),\n",
       " ('ideal_diet', 'string'),\n",
       " ('ideal_diet_coded', 'string'),\n",
       " ('income', 'string'),\n",
       " ('indian_food', 'int'),\n",
       " ('italian_food', 'int'),\n",
       " ('life_rewarding', 'string'),\n",
       " ('marital_status', 'string'),\n",
       " ('meals_dinner_friend', 'string'),\n",
       " ('mother_education', 'string'),\n",
       " ('mother_profession', 'string'),\n",
       " ('nutritional_check', 'int'),\n",
       " ('on_off_campus', 'string'),\n",
       " ('parents_cook', 'int'),\n",
       " ('pay_meal_out', 'int'),\n",
       " ('persian_food', 'string'),\n",
       " ('self_perception_weight', 'string'),\n",
       " ('soup', 'string'),\n",
       " ('sports', 'string'),\n",
       " ('thai_food', 'int'),\n",
       " ('tortilla_calories', 'string'),\n",
       " ('turkey_calories', 'int'),\n",
       " ('type_sports', 'string'),\n",
       " ('veggies_day', 'int'),\n",
       " ('vitamins', 'string'),\n",
       " ('waffle_calories', 'int'),\n",
       " ('weight', 'string')]"
      ]
     },
     "execution_count": 11,
     "metadata": {},
     "output_type": "execute_result"
    }
   ],
   "source": [
    "data.dtypes"
   ]
  },
  {
   "cell_type": "markdown",
   "id": "1d881e71",
   "metadata": {
    "id": "1d881e71"
   },
   "source": [
    "####  - select columns :GPA\t,Gender\t,breakfast,\tcalories_chicken,calories_day\tcalories_scone,coffee type_sports"
   ]
  },
  {
   "cell_type": "code",
   "execution_count": null,
   "id": "ddeb27de",
   "metadata": {
    "id": "ddeb27de"
   },
   "outputs": [],
   "source": [
    "#seleting specific columns :\n",
    "\n",
    "df=data.select('GPA', 'Gender','breakfast', 'calories_chicken', 'calories_day', 'calories_scone' ,'coffee', 'type_sports')"
   ]
  },
  {
   "cell_type": "code",
   "execution_count": null,
   "id": "87f5e63c",
   "metadata": {
    "id": "87f5e63c",
    "outputId": "ce207d93-2494-46db-9661-12d0e641cad4"
   },
   "outputs": [
    {
     "name": "stdout",
     "output_type": "stream",
     "text": [
      "+-----+------+---------+----------------+------------+--------------+------+--------------------+\n",
      "|  GPA|Gender|breakfast|calories_chicken|calories_day|calories_scone|coffee|         type_sports|\n",
      "+-----+------+---------+----------------+------------+--------------+------+--------------------+\n",
      "|  2.4|     2|        1|             430|         nan|           315|     1|          car racing|\n",
      "|3.654|     1|        1|             610|           3|           420|     2|         Basketball |\n",
      "|  3.3|     1|        1|             720|           4|           420|     2|                none|\n",
      "|  3.2|     1|        1|             430|           3|           420|     2|                 nan|\n",
      "|  3.5|     1|        1|             720|           2|           420|     2|            Softball|\n",
      "| 2.25|     1|        1|             610|           3|           980|     2|               None.|\n",
      "|  3.8|     2|        1|             610|           3|           420|     2|              soccer|\n",
      "|  3.3|     1|        1|             720|           3|           420|     1|                none|\n",
      "|  3.3|     1|        1|             430|         nan|           420|     1|                none|\n",
      "|  3.3|     1|        1|             430|           3|           315|     2|        field hockey|\n",
      "|  3.5|     1|        1|             610|           3|           980|     2|              soccer|\n",
      "|3.904|     1|        1|             720|           4|           420|     2|             Running|\n",
      "|  3.4|     2|        1|             430|           3|           420|     2|Soccer and basket...|\n",
      "|  3.6|     1|        1|             610|           3|           420|     2|intramural volley...|\n",
      "|  3.1|     2|        1|             610|           3|           420|     2|              Hockey|\n",
      "|  nan|     2|        2|             430|         nan|           980|     2|              Hockey|\n",
      "|    4|     1|        1|             265|           3|           420|     1|                 nan|\n",
      "|  3.6|     2|        1|             430|           3|           980|     2|              hockey|\n",
      "|  3.4|     1|        1|             720|           3|           980|     1|            dancing |\n",
      "|  2.2|     2|        1|             430|           2|           420|     2|          basketball|\n",
      "+-----+------+---------+----------------+------------+--------------+------+--------------------+\n",
      "only showing top 20 rows\n",
      "\n",
      "None\n"
     ]
    }
   ],
   "source": [
    "print(df.show())"
   ]
  },
  {
   "cell_type": "markdown",
   "id": "51e99b32",
   "metadata": {
    "id": "51e99b32"
   },
   "source": [
    "#### Handling missing nan -> replace with 0 for numerical columns and Others in categorical columns"
   ]
  },
  {
   "cell_type": "code",
   "execution_count": null,
   "id": "45dd5aab",
   "metadata": {
    "id": "45dd5aab",
    "outputId": "0533db6b-01f2-45be-b605-20b07806c4e0"
   },
   "outputs": [
    {
     "name": "stdout",
     "output_type": "stream",
     "text": [
      "+---+------+---------+----------------+------------+--------------+------+-----------+\n",
      "|GPA|Gender|breakfast|calories_chicken|calories_day|calories_scone|coffee|type_sports|\n",
      "+---+------+---------+----------------+------------+--------------+------+-----------+\n",
      "|  2|     0|        0|               0|          19|             1|     0|         21|\n",
      "+---+------+---------+----------------+------------+--------------+------+-----------+\n",
      "\n"
     ]
    }
   ],
   "source": [
    "# Viewing the no of null values:\n",
    "\n",
    "from pyspark.sql.functions import col,isnan, when, count\n",
    "df.select([count(when(isnan(c) | col(c).isNull(), c)).alias(c) for c in df.columns]).show()"
   ]
  },
  {
   "cell_type": "code",
   "execution_count": null,
   "id": "a66980aa",
   "metadata": {
    "id": "a66980aa"
   },
   "outputs": [],
   "source": [
    "# Replacing NAN value with '0':\n",
    "\n",
    "import pyspark.sql.functions as F\n",
    "columns = df.columns\n",
    "for column in columns:\n",
    "    df = df.withColumn(column,F.when(F.isnan(F.col(column)),0).otherwise(F.col(column)))\n"
   ]
  },
  {
   "cell_type": "code",
   "execution_count": null,
   "id": "2342d77e",
   "metadata": {
    "id": "2342d77e",
    "outputId": "9e7600da-9ceb-4681-ea73-bea082df5d31"
   },
   "outputs": [
    {
     "name": "stdout",
     "output_type": "stream",
     "text": [
      "+-----+------+---------+----------------+------------+--------------+------+--------------------+\n",
      "|  GPA|Gender|breakfast|calories_chicken|calories_day|calories_scone|coffee|         type_sports|\n",
      "+-----+------+---------+----------------+------------+--------------+------+--------------------+\n",
      "|  2.4|     2|        1|             430|           0|           315|     1|          car racing|\n",
      "|3.654|     1|        1|             610|           3|           420|     2|         Basketball |\n",
      "|  3.3|     1|        1|             720|           4|           420|     2|                none|\n",
      "|  3.2|     1|        1|             430|           3|           420|     2|                   0|\n",
      "|  3.5|     1|        1|             720|           2|           420|     2|            Softball|\n",
      "| 2.25|     1|        1|             610|           3|           980|     2|               None.|\n",
      "|  3.8|     2|        1|             610|           3|           420|     2|              soccer|\n",
      "|  3.3|     1|        1|             720|           3|           420|     1|                none|\n",
      "|  3.3|     1|        1|             430|           0|           420|     1|                none|\n",
      "|  3.3|     1|        1|             430|           3|           315|     2|        field hockey|\n",
      "|  3.5|     1|        1|             610|           3|           980|     2|              soccer|\n",
      "|3.904|     1|        1|             720|           4|           420|     2|             Running|\n",
      "|  3.4|     2|        1|             430|           3|           420|     2|Soccer and basket...|\n",
      "|  3.6|     1|        1|             610|           3|           420|     2|intramural volley...|\n",
      "|  3.1|     2|        1|             610|           3|           420|     2|              Hockey|\n",
      "|    0|     2|        2|             430|           0|           980|     2|              Hockey|\n",
      "|    4|     1|        1|             265|           3|           420|     1|                   0|\n",
      "|  3.6|     2|        1|             430|           3|           980|     2|              hockey|\n",
      "|  3.4|     1|        1|             720|           3|           980|     1|            dancing |\n",
      "|  2.2|     2|        1|             430|           2|           420|     2|          basketball|\n",
      "+-----+------+---------+----------------+------------+--------------+------+--------------------+\n",
      "only showing top 20 rows\n",
      "\n",
      "None\n"
     ]
    }
   ],
   "source": [
    "# Viewing the data after replacing the values:\n",
    "\n",
    "print(df.show())"
   ]
  },
  {
   "cell_type": "markdown",
   "id": "898802bf",
   "metadata": {
    "id": "898802bf"
   },
   "source": [
    " #### Replace - Gender -> 1 to M and 2 to F"
   ]
  },
  {
   "cell_type": "code",
   "execution_count": null,
   "id": "886c8b3a",
   "metadata": {
    "id": "886c8b3a",
    "outputId": "1a7d178d-d609-4357-fd18-12c81578fdc5"
   },
   "outputs": [
    {
     "name": "stdout",
     "output_type": "stream",
     "text": [
      "+-----+------+---------+----------------+------------+--------------+------+--------------------+\n",
      "|  GPA|Gender|breakfast|calories_chicken|calories_day|calories_scone|coffee|         type_sports|\n",
      "+-----+------+---------+----------------+------------+--------------+------+--------------------+\n",
      "|  2.4|     F|        1|             430|           0|           315|     1|          car racing|\n",
      "|3.654|     M|        1|             610|           3|           420|     2|         Basketball |\n",
      "|  3.3|     M|        1|             720|           4|           420|     2|                none|\n",
      "|  3.2|     M|        1|             430|           3|           420|     2|                   0|\n",
      "|  3.5|     M|        1|             720|           2|           420|     2|            Softball|\n",
      "| 2.25|     M|        1|             610|           3|           980|     2|               None.|\n",
      "|  3.8|     F|        1|             610|           3|           420|     2|              soccer|\n",
      "|  3.3|     M|        1|             720|           3|           420|     1|                none|\n",
      "|  3.3|     M|        1|             430|           0|           420|     1|                none|\n",
      "|  3.3|     M|        1|             430|           3|           315|     2|        field hockey|\n",
      "|  3.5|     M|        1|             610|           3|           980|     2|              soccer|\n",
      "|3.904|     M|        1|             720|           4|           420|     2|             Running|\n",
      "|  3.4|     F|        1|             430|           3|           420|     2|Soccer and basket...|\n",
      "|  3.6|     M|        1|             610|           3|           420|     2|intramural volley...|\n",
      "|  3.1|     F|        1|             610|           3|           420|     2|              Hockey|\n",
      "|    0|     F|        2|             430|           0|           980|     2|              Hockey|\n",
      "|    4|     M|        1|             265|           3|           420|     1|                   0|\n",
      "|  3.6|     F|        1|             430|           3|           980|     2|              hockey|\n",
      "|  3.4|     M|        1|             720|           3|           980|     1|            dancing |\n",
      "|  2.2|     F|        1|             430|           2|           420|     2|          basketball|\n",
      "+-----+------+---------+----------------+------------+--------------+------+--------------------+\n",
      "only showing top 20 rows\n",
      "\n"
     ]
    }
   ],
   "source": [
    "# Repacing the values:\n",
    "\n",
    "from pyspark.sql.functions import regexp_replace, when\n",
    "df = df.withColumn('Gender', regexp_replace('Gender', '1', 'M'))\n",
    "df = df.withColumn('Gender', regexp_replace('Gender', '2', 'F'))\n",
    "df.show()"
   ]
  },
  {
   "cell_type": "markdown",
   "id": "161dfbca",
   "metadata": {},
   "source": [
    "#### Update : Normalize GPA column - normalized  v = v - min(GPA)/max(GPA)-min(GPA)"
   ]
  },
  {
   "cell_type": "code",
   "execution_count": null,
   "id": "5e932767",
   "metadata": {
    "id": "5e932767"
   },
   "outputs": [],
   "source": [
    "# importing the values:\n",
    "import os\n",
    "import pyspark\n",
    "from pyspark.sql import SparkSession\n",
    "from datetime import datetime, date\n",
    "import pandas as pd\n",
    "from pyspark.sql import Row\n",
    "from pyspark.sql.functions import upper,pandas_udf,PandasUDFType,udf\n",
    "from pyspark.sql.types import *\n",
    "from pyspark.sql.functions import min, max, lit, first\n",
    "from pyspark.sql import Row\n",
    "from pyspark.sql.functions import col, greatest\n",
    "from pyspark.sql.functions import least"
   ]
  },
  {
   "cell_type": "code",
   "execution_count": null,
   "id": "0735b2d2",
   "metadata": {
    "id": "0735b2d2",
    "outputId": "87bc4a92-45dd-4cbc-d725-d9b23a5aa670"
   },
   "outputs": [
    {
     "name": "stdout",
     "output_type": "stream",
     "text": [
      "+-----+------+---------+----------------+------------+--------------+------+--------------------+-----+\n",
      "|  GPA|Gender|breakfast|calories_chicken|calories_day|calories_scone|coffee|         type_sports|    v|\n",
      "+-----+------+---------+----------------+------------+--------------+------+--------------------+-----+\n",
      "|  2.4|     2|        1|             430|           0|           315|     1|          car racing|  2.4|\n",
      "|3.654|     1|        1|             610|           3|           420|     2|         Basketball |3.654|\n",
      "|  3.3|     1|        1|             720|           4|           420|     2|                none|  3.3|\n",
      "|  3.2|     1|        1|             430|           3|           420|     2|                   0|  3.2|\n",
      "|  3.5|     1|        1|             720|           2|           420|     2|            Softball|  3.5|\n",
      "| 2.25|     1|        1|             610|           3|           980|     2|               None.| 2.25|\n",
      "|  3.8|     2|        1|             610|           3|           420|     2|              soccer|  3.8|\n",
      "|  3.3|     1|        1|             720|           3|           420|     1|                none|  3.3|\n",
      "|  3.3|     1|        1|             430|           0|           420|     1|                none|  3.3|\n",
      "|  3.3|     1|        1|             430|           3|           315|     2|        field hockey|  3.3|\n",
      "|  3.5|     1|        1|             610|           3|           980|     2|              soccer|  3.5|\n",
      "|3.904|     1|        1|             720|           4|           420|     2|             Running|3.904|\n",
      "|  3.4|     2|        1|             430|           3|           420|     2|Soccer and basket...|  3.4|\n",
      "|  3.6|     1|        1|             610|           3|           420|     2|intramural volley...|  3.6|\n",
      "|  3.1|     2|        1|             610|           3|           420|     2|              Hockey|  3.1|\n",
      "|    0|     2|        2|             430|           0|           980|     2|              Hockey|    0|\n",
      "|    4|     1|        1|             265|           3|           420|     1|                   0|    4|\n",
      "|  3.6|     2|        1|             430|           3|           980|     2|              hockey|  3.6|\n",
      "|  3.4|     1|        1|             720|           3|           980|     1|            dancing |  3.4|\n",
      "|  2.2|     2|        1|             430|           2|           420|     2|          basketball|  2.2|\n",
      "+-----+------+---------+----------------+------------+--------------+------+--------------------+-----+\n",
      "only showing top 20 rows\n",
      "\n"
     ]
    }
   ],
   "source": [
    "# Adding Column 'v'\n",
    "df = df.withColumn('v', df.GPA)\n",
    "df.show()"
   ]
  },
  {
   "cell_type": "code",
   "execution_count": null,
   "id": "1d9241bd",
   "metadata": {
    "id": "1d9241bd"
   },
   "outputs": [],
   "source": [
    "# Converting Column value to Integer\n",
    "df = df.withColumn(\"GPA\", df[\"GPA\"].cast(LongType()))\n",
    "df = df.withColumn(\"breakfast\", df[\"breakfast\"].cast(LongType()))\n",
    "df = df.withColumn(\"calories_chicken\", df[\"calories_chicken\"].cast(LongType()))\n",
    "df = df.withColumn(\"calories_day\", df[\"calories_day\"].cast(LongType()))\n",
    "df = df.withColumn(\"calories_scone\", df[\"calories_scone\"].cast(LongType()))\n",
    "df = df.withColumn(\"coffee\", df[\"coffee\"].cast(LongType()))\n",
    "df = df.withColumn(\"v\", df.v.cast(\"double\"))"
   ]
  },
  {
   "cell_type": "code",
   "execution_count": null,
   "id": "27e64975",
   "metadata": {
    "id": "27e64975",
    "outputId": "571f794a-1e52-4e78-833b-5d2343424220"
   },
   "outputs": [
    {
     "data": {
      "text/plain": [
       "[('GPA', 'bigint'),\n",
       " ('Gender', 'int'),\n",
       " ('breakfast', 'bigint'),\n",
       " ('calories_chicken', 'bigint'),\n",
       " ('calories_day', 'bigint'),\n",
       " ('calories_scone', 'bigint'),\n",
       " ('coffee', 'bigint'),\n",
       " ('type_sports', 'string'),\n",
       " ('v', 'double')]"
      ]
     },
     "execution_count": 23,
     "metadata": {},
     "output_type": "execute_result"
    }
   ],
   "source": [
    "# view the datatype\n",
    "df.dtypes"
   ]
  },
  {
   "cell_type": "code",
   "execution_count": null,
   "id": "8107bddf",
   "metadata": {
    "id": "8107bddf",
    "outputId": "5bff6ccf-7886-412a-fef1-6d64ec9d2603"
   },
   "outputs": [
    {
     "name": "stdout",
     "output_type": "stream",
     "text": [
      "+---+------+---------+----------------+------------+--------------+------+--------------------+-----+\n",
      "|GPA|Gender|breakfast|calories_chicken|calories_day|calories_scone|coffee|         type_sports|    v|\n",
      "+---+------+---------+----------------+------------+--------------+------+--------------------+-----+\n",
      "|  2|     2|        1|             430|           0|           315|     1|          car racing|  2.4|\n",
      "|  3|     1|        1|             610|           3|           420|     2|         Basketball |3.654|\n",
      "|  3|     1|        1|             720|           4|           420|     2|                none|  3.3|\n",
      "|  3|     1|        1|             430|           3|           420|     2|                   0|  3.2|\n",
      "|  3|     1|        1|             720|           2|           420|     2|            Softball|  3.5|\n",
      "|  2|     1|        1|             610|           3|           980|     2|               None.| 2.25|\n",
      "|  3|     2|        1|             610|           3|           420|     2|              soccer|  3.8|\n",
      "|  3|     1|        1|             720|           3|           420|     1|                none|  3.3|\n",
      "|  3|     1|        1|             430|           0|           420|     1|                none|  3.3|\n",
      "|  3|     1|        1|             430|           3|           315|     2|        field hockey|  3.3|\n",
      "|  3|     1|        1|             610|           3|           980|     2|              soccer|  3.5|\n",
      "|  3|     1|        1|             720|           4|           420|     2|             Running|3.904|\n",
      "|  3|     2|        1|             430|           3|           420|     2|Soccer and basket...|  3.4|\n",
      "|  3|     1|        1|             610|           3|           420|     2|intramural volley...|  3.6|\n",
      "|  3|     2|        1|             610|           3|           420|     2|              Hockey|  3.1|\n",
      "|  0|     2|        2|             430|           0|           980|     2|              Hockey|  0.0|\n",
      "|  4|     1|        1|             265|           3|           420|     1|                   0|  4.0|\n",
      "|  3|     2|        1|             430|           3|           980|     2|              hockey|  3.6|\n",
      "|  3|     1|        1|             720|           3|           980|     1|            dancing |  3.4|\n",
      "|  2|     2|        1|             430|           2|           420|     2|          basketball|  2.2|\n",
      "+---+------+---------+----------------+------------+--------------+------+--------------------+-----+\n",
      "only showing top 20 rows\n",
      "\n"
     ]
    }
   ],
   "source": [
    "df.show()"
   ]
  },
  {
   "cell_type": "code",
   "execution_count": null,
   "id": "574dfafe",
   "metadata": {
    "id": "574dfafe"
   },
   "outputs": [],
   "source": [
    "# normalizing v = v - min(GPA)/max(GPA)-min(GPA)\n",
    "@pandas_udf(\"GPA long,Gender string,breakfast long,calories_chicken long,calories_day long,calories_scone long,coffee long,type_sports string, v double\", PandasUDFType.GROUPED_MAP)  # doctest: +SKIP\n",
    "def normalize(df):\n",
    "    v = df.v\n",
    "    GPA = df.GPA\n",
    "    return df.assign(v=(v - min(GPA)) / max(GPA)-min(GPA))\n",
    "df = df.groupby(\"GPA\").apply(normalize)"
   ]
  },
  {
   "cell_type": "code",
   "execution_count": null,
   "id": "74d75a2a",
   "metadata": {
    "id": "74d75a2a",
    "outputId": "a7fae1e3-a66b-49d5-ce69-1a7b12c5c25b"
   },
   "outputs": [
    {
     "name": "stdout",
     "output_type": "stream",
     "text": [
      "+----+------+---------+----------------+------------+--------------+------+------------------+------+\n",
      "| GPA|Gender|breakfast|calories_chicken|calories_day|calories_scone|coffee|       type_sports|     v|\n",
      "+----+------+---------+----------------+------------+--------------+------+------------------+------+\n",
      "|null|     M|        1|             610|           2|           980|     2|                 0|  null|\n",
      "|null|     F|        1|             720|           4|           420|     2|          baseball|  null|\n",
      "|null|     M|        1|             720|           3|           420|     2|None at the moment|  null|\n",
      "|   0|     M|        1|             610|           4|           420|     2|                 0|  null|\n",
      "|   0|     F|        2|             430|           0|           980|     2|            Hockey|  null|\n",
      "|   2|     F|        1|             430|           0|           315|     1|        car racing|  -1.8|\n",
      "|   2|     M|        1|             610|           3|           980|     2|             None.|-1.875|\n",
      "|   2|     F|        1|             430|           2|           420|     2|        basketball|  -1.9|\n",
      "|   2|     M|        2|             720|           3|           420|     2|        Ice hockey|  -1.6|\n",
      "|   2|     M|        1|             720|           3|           420|     1|                 0|  -1.6|\n",
      "|   2|     M|        1|             720|           4|           980|     2|                 0| -1.55|\n",
      "|   2|     F|        1|             430|           0|           980|     2|wrestling & rowing|  -1.6|\n",
      "|   2|     M|        1|             610|           4|           980|     2|          softball|  -1.6|\n",
      "|   2|     M|        1|             610|           4|           980|     2|           rowing |  -1.7|\n",
      "|   2|     F|        2|             265|           2|           420|     1|                 0|-1.645|\n",
      "|   2|     M|        1|             265|           3|           315|     2|    None right now|  -1.7|\n",
      "|   2|     F|        1|             265|           2|           980|     2|                 0| -1.55|\n",
      "|   2|     F|        1|             610|           3|           315|     2|Tennis, Basketball|  -1.6|\n",
      "|   3|     M|        1|             610|           3|           420|     2|       Basketball |-2.782|\n",
      "|   3|     M|        1|             720|           4|           420|     2|              none|  -2.9|\n",
      "+----+------+---------+----------------+------------+--------------+------+------------------+------+\n",
      "only showing top 20 rows\n",
      "\n"
     ]
    }
   ],
   "source": [
    "df.show()"
   ]
  },
  {
   "cell_type": "markdown",
   "id": "30c2086d",
   "metadata": {},
   "source": [
    "####   - Show schema of Data"
   ]
  },
  {
   "cell_type": "code",
   "execution_count": null,
   "id": "602dfd3d",
   "metadata": {
    "id": "602dfd3d",
    "outputId": "2488217d-206a-4703-9429-abf9d42295e6"
   },
   "outputs": [
    {
     "name": "stdout",
     "output_type": "stream",
     "text": [
      "root\n",
      " |-- GPA: long (nullable = true)\n",
      " |-- Gender: string (nullable = true)\n",
      " |-- breakfast: long (nullable = true)\n",
      " |-- calories_chicken: long (nullable = true)\n",
      " |-- calories_day: long (nullable = true)\n",
      " |-- calories_scone: long (nullable = true)\n",
      " |-- coffee: long (nullable = true)\n",
      " |-- type_sports: string (nullable = true)\n",
      " |-- v: double (nullable = true)\n",
      "\n"
     ]
    }
   ],
   "source": [
    "# Schema\n",
    "df.printSchema()"
   ]
  },
  {
   "cell_type": "markdown",
   "id": "c5d865b2",
   "metadata": {},
   "source": [
    "#### - Showing all dataframe"
   ]
  },
  {
   "cell_type": "code",
   "execution_count": null,
   "id": "180dea2c",
   "metadata": {
    "id": "180dea2c",
    "outputId": "16627870-b42f-4e2e-f646-015fb6ea98f5"
   },
   "outputs": [
    {
     "name": "stdout",
     "output_type": "stream",
     "text": [
      "+----+------+---------+----------------+------------+--------------+------+------------------+------+\n",
      "| GPA|Gender|breakfast|calories_chicken|calories_day|calories_scone|coffee|       type_sports|     v|\n",
      "+----+------+---------+----------------+------------+--------------+------+------------------+------+\n",
      "|null|     M|        1|             610|           2|           980|     2|                 0|  null|\n",
      "|null|     F|        1|             720|           4|           420|     2|          baseball|  null|\n",
      "|null|     M|        1|             720|           3|           420|     2|None at the moment|  null|\n",
      "|   0|     M|        1|             610|           4|           420|     2|                 0|  null|\n",
      "|   0|     F|        2|             430|           0|           980|     2|            Hockey|  null|\n",
      "|   2|     F|        1|             430|           0|           315|     1|        car racing|  -1.8|\n",
      "|   2|     M|        1|             610|           3|           980|     2|             None.|-1.875|\n",
      "|   2|     F|        1|             430|           2|           420|     2|        basketball|  -1.9|\n",
      "|   2|     M|        2|             720|           3|           420|     2|        Ice hockey|  -1.6|\n",
      "|   2|     M|        1|             720|           3|           420|     1|                 0|  -1.6|\n",
      "|   2|     M|        1|             720|           4|           980|     2|                 0| -1.55|\n",
      "|   2|     F|        1|             430|           0|           980|     2|wrestling & rowing|  -1.6|\n",
      "|   2|     M|        1|             610|           4|           980|     2|          softball|  -1.6|\n",
      "|   2|     M|        1|             610|           4|           980|     2|           rowing |  -1.7|\n",
      "|   2|     F|        2|             265|           2|           420|     1|                 0|-1.645|\n",
      "|   2|     M|        1|             265|           3|           315|     2|    None right now|  -1.7|\n",
      "|   2|     F|        1|             265|           2|           980|     2|                 0| -1.55|\n",
      "|   2|     F|        1|             610|           3|           315|     2|Tennis, Basketball|  -1.6|\n",
      "|   3|     M|        1|             610|           3|           420|     2|       Basketball |-2.782|\n",
      "|   3|     M|        1|             720|           4|           420|     2|              none|  -2.9|\n",
      "+----+------+---------+----------------+------------+--------------+------+------------------+------+\n",
      "only showing top 20 rows\n",
      "\n"
     ]
    }
   ],
   "source": [
    "# showing dataframe\n",
    "df.show()"
   ]
  },
  {
   "cell_type": "markdown",
   "id": "0d481fc2",
   "metadata": {},
   "source": [
    "#### - GroupBy type_sport and sum of cofee"
   ]
  },
  {
   "cell_type": "code",
   "execution_count": null,
   "id": "a089df93",
   "metadata": {
    "id": "a089df93",
    "outputId": "15325793-3246-404a-d8fc-816117fa1a12"
   },
   "outputs": [
    {
     "data": {
      "text/plain": [
       "[Row(type_sports='hockey', sum(coffee)=4),\n",
       " Row(type_sports='Rec Volleyball', sum(coffee)=2),\n",
       " Row(type_sports='Tennis', sum(coffee)=2),\n",
       " Row(type_sports='Ice Hockey', sum(coffee)=2),\n",
       " Row(type_sports=' None', sum(coffee)=2),\n",
       " Row(type_sports='tennis soccer gym', sum(coffee)=1),\n",
       " Row(type_sports='Volleyball, Track', sum(coffee)=2),\n",
       " Row(type_sports='none organized', sum(coffee)=2),\n",
       " Row(type_sports='Softball', sum(coffee)=6),\n",
       " Row(type_sports='None', sum(coffee)=8),\n",
       " Row(type_sports='horse back riding', sum(coffee)=1),\n",
       " Row(type_sports='none', sum(coffee)=13),\n",
       " Row(type_sports='0', sum(coffee)=38),\n",
       " Row(type_sports='basketball ', sum(coffee)=2),\n",
       " Row(type_sports='Running ', sum(coffee)=2),\n",
       " Row(type_sports='wrestling ', sum(coffee)=1),\n",
       " Row(type_sports='dancing ', sum(coffee)=1),\n",
       " Row(type_sports='None right now', sum(coffee)=2),\n",
       " Row(type_sports='Marching Band', sum(coffee)=2),\n",
       " Row(type_sports='Basketball ', sum(coffee)=3),\n",
       " Row(type_sports='car racing', sum(coffee)=1),\n",
       " Row(type_sports='no particular engagement ', sum(coffee)=1),\n",
       " Row(type_sports='I used to play softball ', sum(coffee)=1),\n",
       " Row(type_sports='none ', sum(coffee)=2),\n",
       " Row(type_sports='Ice hockey', sum(coffee)=4),\n",
       " Row(type_sports='Collegiate Water Polo', sum(coffee)=2),\n",
       " Row(type_sports='basketball', sum(coffee)=2),\n",
       " Row(type_sports='competitive skiing', sum(coffee)=2),\n",
       " Row(type_sports='wrestling & rowing', sum(coffee)=2),\n",
       " Row(type_sports='soccer ', sum(coffee)=1),\n",
       " Row(type_sports='Recreational Basketball, Equestrian Team', sum(coffee)=1),\n",
       " Row(type_sports='Skiing', sum(coffee)=2),\n",
       " Row(type_sports='Fotball', sum(coffee)=2),\n",
       " Row(type_sports='Softball ', sum(coffee)=2),\n",
       " Row(type_sports='hockey, soccer, golf', sum(coffee)=2),\n",
       " Row(type_sports='wrestling', sum(coffee)=2),\n",
       " Row(type_sports='soccer', sum(coffee)=5),\n",
       " Row(type_sports='Wrestling', sum(coffee)=3),\n",
       " Row(type_sports='Tennis, Basketball', sum(coffee)=2),\n",
       " Row(type_sports='baseball', sum(coffee)=2),\n",
       " Row(type_sports='Running', sum(coffee)=2),\n",
       " Row(type_sports='softball', sum(coffee)=7),\n",
       " Row(type_sports='field hockey', sum(coffee)=3),\n",
       " Row(type_sports='None at the moment', sum(coffee)=2),\n",
       " Row(type_sports='intramural volleyball', sum(coffee)=2),\n",
       " Row(type_sports='rowing ', sum(coffee)=2),\n",
       " Row(type_sports='softball and basketball', sum(coffee)=1),\n",
       " Row(type_sports='Soccer', sum(coffee)=8),\n",
       " Row(type_sports='Rowing, Running, and Cycling', sum(coffee)=2),\n",
       " Row(type_sports='Volleyball', sum(coffee)=4),\n",
       " Row(type_sports='Soccer and basketball ', sum(coffee)=2),\n",
       " Row(type_sports='Gaelic Football', sum(coffee)=2),\n",
       " Row(type_sports='crew', sum(coffee)=2),\n",
       " Row(type_sports='None.', sum(coffee)=2),\n",
       " Row(type_sports='Dancing', sum(coffee)=2),\n",
       " Row(type_sports='volleyball', sum(coffee)=2),\n",
       " Row(type_sports='Hockey', sum(coffee)=12),\n",
       " Row(type_sports='Football, Basketball, Volleyball, Golf', sum(coffee)=2),\n",
       " Row(type_sports='Lacrosse', sum(coffee)=4),\n",
       " Row(type_sports='skiing ', sum(coffee)=2),\n",
       " Row(type_sports='Water polo and running ', sum(coffee)=2),\n",
       " Row(type_sports='snowboarding', sum(coffee)=2),\n",
       " Row(type_sports='volleyball, lacrosse', sum(coffee)=2),\n",
       " Row(type_sports='When I can, rarely though play pool, darts, and basketball.', sum(coffee)=2),\n",
       " Row(type_sports='I danced in high school', sum(coffee)=2),\n",
       " Row(type_sports=\"No, I don't play sport.\", sum(coffee)=2),\n",
       " Row(type_sports='Lacrosse ', sum(coffee)=4),\n",
       " Row(type_sports='tennis  ', sum(coffee)=1)]"
      ]
     },
     "execution_count": 10,
     "metadata": {},
     "output_type": "execute_result"
    }
   ],
   "source": [
    "#Grouping the data value coffee by type_sports\n",
    "df.groupBy('type_sports').agg({'coffee': 'sum'}).collect()"
   ]
  },
  {
   "cell_type": "markdown",
   "id": "e74f57d9",
   "metadata": {},
   "source": [
    "### iii.Load: Save analysis report"
   ]
  },
  {
   "cell_type": "markdown",
   "id": "c16f45eb",
   "metadata": {},
   "source": [
    "#### - show all df, save as files"
   ]
  },
  {
   "cell_type": "code",
   "execution_count": null,
   "id": "ebedb99f",
   "metadata": {
    "id": "ebedb99f"
   },
   "outputs": [],
   "source": [
    "# Saving the file into CSV\n",
    "df.write.format('csv').option('header',True).mode('overwrite').save('output.csv')"
   ]
  }
 ],
 "metadata": {
  "colab": {
   "collapsed_sections": [],
   "name": "Spark-Assignement-Team5.ipynb",
   "provenance": []
  },
  "kernelspec": {
   "display_name": "Python 3 (ipykernel)",
   "language": "python",
   "name": "python3"
  },
  "language_info": {
   "codemirror_mode": {
    "name": "ipython",
    "version": 3
   },
   "file_extension": ".py",
   "mimetype": "text/x-python",
   "name": "python",
   "nbconvert_exporter": "python",
   "pygments_lexer": "ipython3",
   "version": "3.8.12"
  }
 },
 "nbformat": 4,
 "nbformat_minor": 5
}
