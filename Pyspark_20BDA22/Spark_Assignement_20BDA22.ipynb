{
 "cells": [
  {
   "cell_type": "markdown",
   "metadata": {
    "id": "15e6dfdb"
   },
   "source": [
    "# Pyspark "
   ]
  },
  {
   "cell_type": "markdown",
   "metadata": {
    "id": "b872b52c"
   },
   "source": [
    "### Food\n",
    "\n",
    "##### i.Extract:  Load the data\n",
    "   - Read data as csv via spark dataframe\n",
    "\n",
    "##### ii.Transform: Exploratory data analysis using spark df\n",
    "    - Unique records count\n",
    "    - select columns GPA\tGender\tbreakfast\tcalories_chicken\tcalories_day\tcalories_scone\tcoffee type_sports\n",
    "    - handling nan -> replace with 0 for numerical columns and Others in categorical columns\n",
    "    - Replace - Gender -> 1 to M and 2 to F\n",
    "    - Update : Normalize GPA column - normalized  v = v - min(GPA)/max(GPA)-min(GPA)\n",
    "    - show schema\n",
    "    - show all df\n",
    "    - GroupBy type_sport and sum of cofee\n",
    "\n",
    "##### iii.Load: Save analysis report\n",
    "    - show all df, save as files"
   ]
  },
  {
   "cell_type": "code",
   "execution_count": 31,
   "metadata": {
    "id": "5137c2f3"
   },
   "outputs": [],
   "source": [
    "# loading pyspark environments\n",
    "\n",
    "from random import random\n",
    "import os\n",
    "from pyspark.sql import SparkSession"
   ]
  },
  {
   "cell_type": "code",
   "execution_count": 32,
   "metadata": {
    "id": "c961a53c-1a23-4ac0-adb3-8bd4769ffd53"
   },
   "outputs": [],
   "source": [
    "# importing spark session\n",
    "\n",
    "spark_session = SparkSession.builder.master(\"local\").\\\n",
    "        appName(\"SparkApplication\").\\\n",
    "        config(\"spark.driver.bindAddress\",\"localhost\").\\\n",
    "        config(\"spark.ui.port\",\"4041\").\\\n",
    "        getOrCreate()\n",
    "sc = spark_session.sparkContext"
   ]
  },
  {
   "cell_type": "code",
   "execution_count": 33,
   "metadata": {
    "id": "378fce51-c206-495c-9678-9db9b17b1749"
   },
   "outputs": [],
   "source": [
    "# loading dataset using spark dataframe:\n",
    "\n",
    "data = spark_session.read.load(\"C:/Users/AMAL JOSEPH/Downloads/food_coded.csv\",format=\"csv\", sep=\",\", inferSchema=\"true\", header=\"true\")"
   ]
  },
  {
   "cell_type": "code",
   "execution_count": 34,
   "metadata": {
    "id": "e1560036",
    "outputId": "91af107a-8772-4b3e-eff4-67045d13b400"
   },
   "outputs": [
    {
     "name": "stdout",
     "output_type": "stream",
     "text": [
      "root\n",
      " |-- GPA: string (nullable = true)\n",
      " |-- Gender: string (nullable = true)\n",
      " |-- breakfast: string (nullable = true)\n",
      " |-- calories_chicken: string (nullable = true)\n",
      " |-- calories_day: string (nullable = true)\n",
      " |-- calories_scone: string (nullable = true)\n",
      " |-- coffee: string (nullable = true)\n",
      " |-- comfort_food: string (nullable = true)\n",
      " |-- comfort_food_reasons: string (nullable = true)\n",
      " |-- comfort_food_reasons_coded9: string (nullable = true)\n",
      " |-- cook: string (nullable = true)\n",
      " |-- comfort_food_reasons_coded11: integer (nullable = true)\n",
      " |-- cuisine: string (nullable = true)\n",
      " |-- diet_current: string (nullable = true)\n",
      " |-- diet_current_coded: string (nullable = true)\n",
      " |-- drink: string (nullable = true)\n",
      " |-- eating_changes: string (nullable = true)\n",
      " |-- eating_changes_coded: string (nullable = true)\n",
      " |-- eating_changes_coded1: string (nullable = true)\n",
      " |-- eating_out: string (nullable = true)\n",
      " |-- employment: string (nullable = true)\n",
      " |-- ethnic_food: string (nullable = true)\n",
      " |-- exercise: string (nullable = true)\n",
      " |-- father_education: string (nullable = true)\n",
      " |-- father_profession: string (nullable = true)\n",
      " |-- fav_cuisine: string (nullable = true)\n",
      " |-- fav_cuisine_coded: string (nullable = true)\n",
      " |-- fav_food: string (nullable = true)\n",
      " |-- food_childhood: string (nullable = true)\n",
      " |-- fries: string (nullable = true)\n",
      " |-- fruit_day: string (nullable = true)\n",
      " |-- grade_level: integer (nullable = true)\n",
      " |-- greek_food: integer (nullable = true)\n",
      " |-- healthy_feeling: integer (nullable = true)\n",
      " |-- healthy_meal: string (nullable = true)\n",
      " |-- ideal_diet: string (nullable = true)\n",
      " |-- ideal_diet_coded: string (nullable = true)\n",
      " |-- income: string (nullable = true)\n",
      " |-- indian_food: integer (nullable = true)\n",
      " |-- italian_food: integer (nullable = true)\n",
      " |-- life_rewarding: string (nullable = true)\n",
      " |-- marital_status: string (nullable = true)\n",
      " |-- meals_dinner_friend: string (nullable = true)\n",
      " |-- mother_education: string (nullable = true)\n",
      " |-- mother_profession: string (nullable = true)\n",
      " |-- nutritional_check: string (nullable = true)\n",
      " |-- on_off_campus: string (nullable = true)\n",
      " |-- parents_cook: integer (nullable = true)\n",
      " |-- pay_meal_out: integer (nullable = true)\n",
      " |-- persian_food: string (nullable = true)\n",
      " |-- self_perception_weight: string (nullable = true)\n",
      " |-- soup: string (nullable = true)\n",
      " |-- sports: string (nullable = true)\n",
      " |-- thai_food: integer (nullable = true)\n",
      " |-- tortilla_calories: string (nullable = true)\n",
      " |-- turkey_calories: integer (nullable = true)\n",
      " |-- type_sports: string (nullable = true)\n",
      " |-- veggies_day: string (nullable = true)\n",
      " |-- vitamins: string (nullable = true)\n",
      " |-- waffle_calories: integer (nullable = true)\n",
      " |-- weight: string (nullable = true)\n",
      "\n"
     ]
    }
   ],
   "source": [
    "# viewing dtypes \n",
    "data.printSchema()"
   ]
  },
  {
   "cell_type": "markdown",
   "metadata": {
    "id": "9ee42c36"
   },
   "source": [
    "#### Transform:\n"
   ]
  },
  {
   "cell_type": "markdown",
   "metadata": {
    "id": "d658f497"
   },
   "source": [
    "##### Unique records count"
   ]
  },
  {
   "cell_type": "code",
   "execution_count": 35,
   "metadata": {
    "id": "36f19fe9",
    "outputId": "d80866e5-e749-46a2-c651-b59997ea45af"
   },
   "outputs": [
    {
     "name": "stdout",
     "output_type": "stream",
     "text": [
      "Count: 138\n"
     ]
    }
   ],
   "source": [
    "print(\"Count: \" + str(data.distinct().count()))"
   ]
  },
  {
   "cell_type": "code",
   "execution_count": 36,
   "metadata": {
    "id": "089be84c",
    "outputId": "72336d7e-9b36-4eaa-f6a8-f2d296bd1991"
   },
   "outputs": [
    {
     "data": {
      "text/plain": [
       "DataFrame[GPA: bigint, Gender: bigint, breakfast: bigint, calories_chicken: bigint, calories_day: bigint, calories_scone: bigint, coffee: bigint, comfort_food: bigint, comfort_food_reasons: bigint, comfort_food_reasons_coded9: bigint, cook: bigint, comfort_food_reasons_coded11: bigint, cuisine: bigint, diet_current: bigint, diet_current_coded: bigint, drink: bigint, eating_changes: bigint, eating_changes_coded: bigint, eating_changes_coded1: bigint, eating_out: bigint, employment: bigint, ethnic_food: bigint, exercise: bigint, father_education: bigint, father_profession: bigint, fav_cuisine: bigint, fav_cuisine_coded: bigint, fav_food: bigint, food_childhood: bigint, fries: bigint, fruit_day: bigint, grade_level: bigint, greek_food: bigint, healthy_feeling: bigint, healthy_meal: bigint, ideal_diet: bigint, ideal_diet_coded: bigint, income: bigint, indian_food: bigint, italian_food: bigint, life_rewarding: bigint, marital_status: bigint, meals_dinner_friend: bigint, mother_education: bigint, mother_profession: bigint, nutritional_check: bigint, on_off_campus: bigint, parents_cook: bigint, pay_meal_out: bigint, persian_food: bigint, self_perception_weight: bigint, soup: bigint, sports: bigint, thai_food: bigint, tortilla_calories: bigint, turkey_calories: bigint, type_sports: bigint, veggies_day: bigint, vitamins: bigint, waffle_calories: bigint, weight: bigint]"
      ]
     },
     "execution_count": 36,
     "metadata": {},
     "output_type": "execute_result"
    }
   ],
   "source": [
    "from pyspark.sql.functions import col, countDistinct\n",
    "\n",
    "data.agg(*(countDistinct(col(c)).alias(c) for c in data.columns))"
   ]
  },
  {
   "cell_type": "code",
   "execution_count": 37,
   "metadata": {
    "id": "c27161fc",
    "outputId": "b3a23df6-52ed-48f3-ed99-f442075fd26f"
   },
   "outputs": [
    {
     "name": "stdout",
     "output_type": "stream",
     "text": [
      "+--------------------+--------------------+--------------------+----------------+------------+--------------+------+--------------------+--------------------+---------------------------+------------------+----------------------------+-------+--------------------+------------------+--------------------+--------------------+--------------------+---------------------+--------------------+--------------------+-----------+--------+----------------+--------------------+--------------------+-----------------+--------------------+--------------------+----------------+---------+-----------+----------+---------------+--------------------+--------------------+--------------------+--------------------+-----------+------------+--------------+--------------------+--------------------+--------------------+--------------------+-----------------+--------------------+------------+------------+------------+----------------------+----+------+---------+-----------------+---------------+--------------------+-----------+--------+---------------+------+\n",
      "|                 GPA|              Gender|           breakfast|calories_chicken|calories_day|calories_scone|coffee|        comfort_food|comfort_food_reasons|comfort_food_reasons_coded9|              cook|comfort_food_reasons_coded11|cuisine|        diet_current|diet_current_coded|               drink|      eating_changes|eating_changes_coded|eating_changes_coded1|          eating_out|          employment|ethnic_food|exercise|father_education|   father_profession|         fav_cuisine|fav_cuisine_coded|            fav_food|      food_childhood|           fries|fruit_day|grade_level|greek_food|healthy_feeling|        healthy_meal|          ideal_diet|    ideal_diet_coded|              income|indian_food|italian_food|life_rewarding|      marital_status| meals_dinner_friend|    mother_education|   mother_profession|nutritional_check|       on_off_campus|parents_cook|pay_meal_out|persian_food|self_perception_weight|soup|sports|thai_food|tortilla_calories|turkey_calories|         type_sports|veggies_day|vitamins|waffle_calories|weight|\n",
      "+--------------------+--------------------+--------------------+----------------+------------+--------------+------+--------------------+--------------------+---------------------------+------------------+----------------------------+-------+--------------------+------------------+--------------------+--------------------+--------------------+---------------------+--------------------+--------------------+-----------+--------+----------------+--------------------+--------------------+-----------------+--------------------+--------------------+----------------+---------+-----------+----------+---------------+--------------------+--------------------+--------------------+--------------------+-----------+------------+--------------+--------------------+--------------------+--------------------+--------------------+-----------------+--------------------+------------+------------+------------+----------------------+----+------+---------+-----------------+---------------+--------------------+-----------+--------+---------------+------+\n",
      "|                 2.8|                   1|                   2|             720|           3|           420|     2|chocolate, ice cr...|             boredom|                          2|                 3|                           2|      1|vegetarian, eat b...|                 1|                   1|none, I have dorm...|                   3|                    4|                   2|                   3|          2|       1|               4|              VP of |      don't have one|                0|                   3|Chicken parm, bee...|               1|        4|          1|         3|              8|good portions, lo...|healthy, colorful...|                   2|                   6|          3|           3|             5|                   1|               Pasta|                null|                null|             null|                null|        null|        null|        null|                  null|null|  null|     null|             null|           null|                null|       null|    null|           null|  null|\n",
      "|                 3.7|                   1|                   1|             610|           3|           420|     2|pizza, doughnuts,...|             boredom|                          2|                 3|                           2|    nan|I eat out more of...|                 2|                   2|I do not snack as...|                   1|                    8|                   4|                   2|          4|       1|               5|        Optometrist | Italian or Chinese |                1|                   3|pizza, pasta, gri...|               1|        5|          2|         3|              7|a meal with a mea...|I wish I had the ...|                   5|                   6|          2|           5|             7|                   1|spaghetti or past...|                   2|          Homemaker |                3|                   1|           2|           3|           1|                     4|   2|     1|        2|             1165|            500|           Softball |          5|       2|            900|   150|\n",
      "|               3.605|                   1|                   1|             610|           3|           315|     2|Mac and cheese, f...|     Hunger, boredom|                          4|                 3|                           4|      1|Healthy, includes...|                 1|                   1|I eat smaller por...|                   2|                    5|                   2|                   2|          5|     nan|               4|              Banker|               Greek|                1|                   1|Hamloaf, tuna fis...|               1|        5|          2|         5|              3|           Colorful |The same as my cu...|                   6|                   6|          5|           5|             3|                   2|Tacos, spaghetti,...|                   4|    Registered Nurse|                2|                   1|           2|           4|           5|                     1|   1|     2|        5|              940|            500|                none|          5|       2|            900|   113|\n",
      "|                 3.9|                   2|                   1|             720|           3|           420|     2|Chips sweets popcorn|             Boredom|                          2|                 5|                           2|      1|No diet. I eat wh...|                 2|                   2|More coffee less ...|                   1|                    7|                   1|                   3|          5|       1|               3|Contract negotiat...|             Chinese|                4|                   1|         Sloppy joes|               1|        5|          1|         5|              1|     All food groups|Whatever makes me...|                   8|                   6|          4|           5|             3|                   1|Chicken and veget...|                   2|                none|                4|                   1|           1|           3|           4|                     2|   1|     1|        5|             1165|            850|Rowing, Running, ...|          4|       2|           1315|   145|\n",
      "|          Chocolate |                null|                null|            null|        null|          null|  null|                null|                null|                       null|              null|                        null|   null|                null|              null|                null|                null|                null|                 null|                null|                null|       null|    null|            null|                null|                null|             null|                null|                null|            null|     null|       null|      null|           null|                null|                null|                null|                null|       null|        null|          null|                null|                null|                null|                null|             null|                null|        null|        null|        null|                  null|null|  null|     null|             null|           null|                null|       null|    null|           null|  null|\n",
      "|                   3|                   2|                   1|             720|           4|           420|     1|Mac n Cheese, Las...|happiness, they a...|                       null|                 3|                           7|      1|I try to eat as h...|                 1|                   2|I don't eat as mu...|                   1|                    8|                   5|                   2|          2|       1|               3|Store manager at ...|             Italian|                1|                   3|pizza and spaghetti |               1|        5|          1|         1|              1|A protein, a frui...|My ideal diet is ...|                   6|                   4|          1|           5|             1|                   1|Pizza, Spaghetti,...|                   2|Receptionist for ...|                4|                   1|           2|           3|           1|                     2|   2|     2|        1|              940|            500|                 nan|          3|       1|           1315|   135|\n",
      "|           Personal |                   1|                   1|             610|           2|           980|     2|Macaroons, truffl...|\"I do not really ...|          special occasions|     and anxiety \"|                           3|      2|                   3|               nan|My diet is pretty...|                   1|                   1| I have gotten hea...|                   2|                   5|          2|       2|               4|                   2|                   2|       Dead beat |            Mexican |                   2|               2|Chocolate|          2|         3|              4|                   3|                   2|chicken, veggies,...|My ideal diet wou...|          2|           4|             2|                   4|                   5|                   2|\"I would say \"\"le...|                4|Respiratory Thera...|           4|           3|           1|                     2|   3|     2|        2|                2|              2|                 725|        500|     nan|              3|     1|\n",
      "|                 nan|                   1|                   1|             610|           4|           420|     2|Pizza, mashed pot...|      Anger, sadness|                          3|                 2|                           3|      1|A very healthy di...|                 1|                   2|\"Avoiding \"\"easy ...|                   2|                    5|                   3|                   3|          5|       1|               5| Mechanical Engineer|             Italian|                1|                   3|               Pizza|               1|        5|          2|         2|              7|A protein, veggie...|A very healthy di...|                   3|                 nan|          1|           5|             7|                   1|                 nan|                   5|           Secretary|                5|                   1|           2|           3|           1|                     4|   1|     2|        2|              940|            500|                 nan|          5|       1|            900|   135|\n",
      "|                 3.3|                   1|                   1|             720|           4|           420|     2|frozen yogurt, pi...|     stress, sadness|                          1|                 1|                           1|      3|toast and fruit f...|                 3|                   1|sometimes choosin...|                   1|                    3|                   2|                   3|          5|       2|               2|       owns business|             italian|                1|                   3|mac and cheese, p...|               1|        5|          3|         5|              6|usually includes ...|   nonprocessed food|i would say my id...|                   6|          6|           5|             5|                   7|                   2|chicken and rice ...|                   2|    owns business|                   4|           2|           1|           3|                     5|   6|     1|        2|                5|           1165|                 500|       none|       5|              1|   900|\n",
      "|                 3.3|                   2|                   1|             610|           3|           980|     2|Fast food, pizza,...|happiness, satisf...|                          7|                 5|                           7|      1|I eat 2 meals a d...|                 2|                   2|     Late night food|                   1|                    3|                   4|                   2|          4|       1|               5|                 CFO|             Mexican|                2|                   3|pizza, chicken fi...|               1|        2|          2|         2|              5|Rice, Meat, veget...|3 smaller meals a...|                   1|                   6|          1|           4|             2|                   1|Chicken, Pasta, Veal|                   4|             Teacher|                2|                   1|           1|           2|           1|                     6|   1|     1|        1|             1165|            850|              Soccer|          3|       2|           1315|   175|\n",
      "|                 3.5|                   1|                   1|             610|           3|           980|     2|Pasta, grandma ho...|            Boredom |                          2|                 1|                           2|      1|i eat very health...|                 1|                   2|                Nun |                   3|                    4|                   2|                   1|          5|       1|               2|                 Idk|Orange chicken an...|                4|                   1|             Chicken|               1|        5|          3|         1|              9|Chicken, and vegg...|      Chicken, fish |                   7|                   3|          1|           5|             8|                   1|chicken al king, ...|                   4|     Chidos Cleaners|                2|                   3|           1|           2|           2|                     1|   1|     1|        2|              940|            345|              soccer|          5|       2|            900|   116|\n",
      "|      Curry Chicken\"|                   2|Public Health Adv...|               3|           1|             3|     4|                   1|                   4|                          1|               nan|                           4|    940|                 500|       basketball |                   5|                   2|                1315|                  180|                null|                null|       null|    null|            null|                null|                null|             null|                null|                null|            null|     null|       null|      null|           null|                null|                null|                null|                null|       null|        null|          null|                null|                null|                null|                null|             null|                null|        null|        null|        null|                  null|null|  null|     null|             null|           null|                null|       null|    null|           null|  null|\n",
      "|\",When i'm  eatin...| I started to eat...|                   2|               5|           2|             2|     4|                 nan|                   2|           His own business|Vietnamese cuisine|                           4|      3|Noodle, Wings, an...|                 1|                   3|                   2|                   2|                    9|Including both ve...|My ideal diet sho...|          2|       2|               2|                   4|                   7|                1|Vietnamese fried ...|                   2|Her own business|        2|          1|         1|              2|                   2|                   4|                   1|                   2|          5|         725|           690|No, I don't play ...|                   3|                   1|                 760|              113|                null|        null|        null|        null|                  null|null|  null|     null|             null|           null|                null|       null|    null|           null|  null|\n",
      "|                3.65|                   1|                   1|             610|           3|           420|     2|french fries, chi...|boredom, stressed...|                          2|                 4|                           2|      1|         egan dining|                 2|                   1|                poor|                   1|                    3|                   3|                   3|          2|       1|               4|Vice President of...|              French|                1|                   3|hamburgers, chick...|               1|        5|          1|         3|              1|     a lot of greens| healthy and protien|                   7|                   6|          1|           5|             3|                   1|pasta, lasagna, c...|                   4|             stylist|                4|                   1|           5|           4|           1|                     2|   1|     1|        3|              940|            345|            softball|          4|       1|           1315|   150|\n",
      "|                3.63|                   1|                   1|             430|           3|           420|     1|Chinese, chips, cake| Stress and boredom |                       null|                 3|                           1|      1|Try to eat as hea...|                 2|                   1|I try to eat more...|                   2|                    5|                   2|                   2|          4|       2|               2|    HVAC technician |           American |                5|                   1|             Chinese|               1|        5|          2|         3|              5|Chicken vegetable...|All home cooked. ...|                   5|                   3|          3|           5|             8|                   2|Chinese tacos or ...|                   2|Grieveance coordi...|                2|                   3|           3|           4|           2|                     4|   1|     2|        4|              940|            345|                None|          5|       2|           1315|   140|\n",
      "|               3.654|                   1|                   1|             610|           3|           420|     2|chocolate, chips,...|Stress, bored, anger|                          1|                 3|                           1|      1|I eat about three...|                 2|                   2|I eat out more th...|                   1|                    2|                   2|                   2|          4|       1|               2|      Self employed |             Italian|                1|                   1|chicken and biscu...|               1|        4|          4|         4|              5|Grains, Veggies, ...|Try to eat 5-6 sm...|                   3|                   4|          4|           4|             1|                   2|Pasta, steak, chi...|                   4|           Nurse RN |                4|                   1|           1|           4|           4|                     3|   1|     1|        2|              725|            690|         Basketball |          4|       2|            900|   155|\n",
      "|                3.83|                   2|                   1|             430|           3|           315|     2|fried chicken. ma...|They taste better...|                          5|                 3|                           5|      2|I eat alot carbs....|                 2|                   1|I definitely eat ...|                   1|                    3|                   2|                 nan|          3|       2|               2|            not sure|            Italian |                1|                   1|mac and cheease, ...|               1|        3|          3|         4|              9|lots of green and...|I would eat more ...|                   2|                   3|          4|           5|             9|                   2|pizza, pasta, bur...|                   4|    Office assistant|                2|                   1|           2|           6|         nan|                     1|   2|     2|        4|             1165|            690|                none|          3|       2|            900|   150|\n",
      "|                 2.6|                   1|                   1|             610|           4|           980|     2|carrots and ranch...|             sadness|                          3|                 3|                           3|      2|High in protein, ...|                 1|                 nan|                 nan|                   3|                    4|                   4|                   3|          5|       1|               4|           VP of GNC|            Italian |                1|                   1|chicken tenders, ...|               1|        5|          3|         4|              8|high protein, fru...|My ideal diet is ...|                   6|                   5|          4|           4|             8|                   2|chicken and pasta...|                   4|          dietitian |                4|                   1|           1|           3|           4|                     2| nan|     1|        4|             1165|            690|             rowing |          5|       2|           1315|   180|\n",
      "|           Chipotle |                null|                null|            null|        null|          null|  null|                null|                null|                       null|              null|                        null|   null|                null|              null|                null|                null|                null|                 null|                null|                null|       null|    null|            null|                null|                null|             null|                null|                null|            null|     null|       null|      null|           null|                null|                null|                null|                null|       null|        null|          null|                null|                null|                null|                null|             null|                null|        null|        null|        null|                  null|null|  null|     null|             null|           null|                null|       null|    null|           null|  null|\n",
      "|                 3.2|                   1|                   1|             430|           4|           420|     1|mac & cheese, fro...|they are yummy, m...|                          3|                 4|                           3|      2|i drink alot of l...|                 2|                   1|     eat more salads|                   2|                    5|                   3|                   2|          3|     nan|               3|      business owner|             italian|                1|                   1|chicken, macaroni...|               1|        5|          1|         3|              3|lean meat, fresh ...|ideal diet would ...|                   4|                   4|          1|           5|             2|                   2|chicken alfredo, ...|                   4|certified accountant|                2|                   1|           1|           3|           1|                     3|   1|     1|        1|             1165|            690|            softball|          5|       1|            900|   165|\n",
      "+--------------------+--------------------+--------------------+----------------+------------+--------------+------+--------------------+--------------------+---------------------------+------------------+----------------------------+-------+--------------------+------------------+--------------------+--------------------+--------------------+---------------------+--------------------+--------------------+-----------+--------+----------------+--------------------+--------------------+-----------------+--------------------+--------------------+----------------+---------+-----------+----------+---------------+--------------------+--------------------+--------------------+--------------------+-----------+------------+--------------+--------------------+--------------------+--------------------+--------------------+-----------------+--------------------+------------+------------+------------+----------------------+----+------+---------+-----------------+---------------+--------------------+-----------+--------+---------------+------+\n",
      "only showing top 20 rows\n",
      "\n"
     ]
    }
   ],
   "source": [
    "data.distinct().show()"
   ]
  },
  {
   "cell_type": "code",
   "execution_count": 38,
   "metadata": {
    "id": "93c0469d",
    "outputId": "44d0924c-a136-4f64-b0dd-3a59c7920330"
   },
   "outputs": [
    {
     "data": {
      "text/plain": [
       "[('GPA', 'string'),\n",
       " ('Gender', 'string'),\n",
       " ('breakfast', 'string'),\n",
       " ('calories_chicken', 'string'),\n",
       " ('calories_day', 'string'),\n",
       " ('calories_scone', 'string'),\n",
       " ('coffee', 'string'),\n",
       " ('comfort_food', 'string'),\n",
       " ('comfort_food_reasons', 'string'),\n",
       " ('comfort_food_reasons_coded9', 'string'),\n",
       " ('cook', 'string'),\n",
       " ('comfort_food_reasons_coded11', 'int'),\n",
       " ('cuisine', 'string'),\n",
       " ('diet_current', 'string'),\n",
       " ('diet_current_coded', 'string'),\n",
       " ('drink', 'string'),\n",
       " ('eating_changes', 'string'),\n",
       " ('eating_changes_coded', 'string'),\n",
       " ('eating_changes_coded1', 'string'),\n",
       " ('eating_out', 'string'),\n",
       " ('employment', 'string'),\n",
       " ('ethnic_food', 'string'),\n",
       " ('exercise', 'string'),\n",
       " ('father_education', 'string'),\n",
       " ('father_profession', 'string'),\n",
       " ('fav_cuisine', 'string'),\n",
       " ('fav_cuisine_coded', 'string'),\n",
       " ('fav_food', 'string'),\n",
       " ('food_childhood', 'string'),\n",
       " ('fries', 'string'),\n",
       " ('fruit_day', 'string'),\n",
       " ('grade_level', 'int'),\n",
       " ('greek_food', 'int'),\n",
       " ('healthy_feeling', 'int'),\n",
       " ('healthy_meal', 'string'),\n",
       " ('ideal_diet', 'string'),\n",
       " ('ideal_diet_coded', 'string'),\n",
       " ('income', 'string'),\n",
       " ('indian_food', 'int'),\n",
       " ('italian_food', 'int'),\n",
       " ('life_rewarding', 'string'),\n",
       " ('marital_status', 'string'),\n",
       " ('meals_dinner_friend', 'string'),\n",
       " ('mother_education', 'string'),\n",
       " ('mother_profession', 'string'),\n",
       " ('nutritional_check', 'string'),\n",
       " ('on_off_campus', 'string'),\n",
       " ('parents_cook', 'int'),\n",
       " ('pay_meal_out', 'int'),\n",
       " ('persian_food', 'string'),\n",
       " ('self_perception_weight', 'string'),\n",
       " ('soup', 'string'),\n",
       " ('sports', 'string'),\n",
       " ('thai_food', 'int'),\n",
       " ('tortilla_calories', 'string'),\n",
       " ('turkey_calories', 'int'),\n",
       " ('type_sports', 'string'),\n",
       " ('veggies_day', 'string'),\n",
       " ('vitamins', 'string'),\n",
       " ('waffle_calories', 'int'),\n",
       " ('weight', 'string')]"
      ]
     },
     "execution_count": 38,
     "metadata": {},
     "output_type": "execute_result"
    }
   ],
   "source": [
    "data.dtypes"
   ]
  },
  {
   "cell_type": "markdown",
   "metadata": {
    "id": "1d881e71"
   },
   "source": [
    "####  - select columns :GPA\t,Gender\t,breakfast,\tcalories_chicken,calories_day\tcalories_scone,coffee type_sports"
   ]
  },
  {
   "cell_type": "code",
   "execution_count": 39,
   "metadata": {
    "id": "ddeb27de"
   },
   "outputs": [
    {
     "name": "stdout",
     "output_type": "stream",
     "text": [
      "+---------------+------+--------------------+----------------+------------+--------------+------+--------------------+\n",
      "|            GPA|Gender|           breakfast|calories_chicken|calories_day|calories_scone|coffee|         type_sports|\n",
      "+---------------+------+--------------------+----------------+------------+--------------+------+--------------------+\n",
      "|            2.4|     2|                   1|             430|         nan|           315|     1|          car racing|\n",
      "|          3.654|     1|                   1|             610|           3|           420|     2|         Basketball |\n",
      "|            3.3|     1|                   1|             720|           4|           420|     2|                 500|\n",
      "|            3.2|     1|                   1|             430|           3|           420|     2|                null|\n",
      "| Stuffed Shells|  null|                null|            null|        null|          null|  null|                null|\n",
      "|Homemade Chili\"|     4|Special Education...|               2|           1|             1|     2|                null|\n",
      "|            3.5|     1|                   1|             720|           2|           420|     2|            Softball|\n",
      "|           2.25|     1|                   1|             610|           3|           980|     2|               None.|\n",
      "|            3.8|     2|                   1|             610|           3|           420|     2|              soccer|\n",
      "|            3.3|     1|                   1|             720|           3|           420|     1|                none|\n",
      "|            3.3|     1|                   1|             430|         nan|           420|     1|                none|\n",
      "|            3.3|     1|                   1|             430|           3|           315|     2|        field hockey|\n",
      "|            3.5|     1|                   1|             610|           3|           980|     2|              soccer|\n",
      "|          3.904|     1|                   1|             720|           4|           420|     2|             Running|\n",
      "|            3.4|     2|                   1|             430|           3|           420|     2|Soccer and basket...|\n",
      "|            3.6|     1|                   1|             610|           3|           420|     2|intramural volley...|\n",
      "|            3.1|     2|                   1|             610|           3|           420|     2|              Hockey|\n",
      "|            nan|     2|                   2|             430|         nan|           980|     2|              Hockey|\n",
      "|              4|     1|                   1|             265|           3|           420|     1|                 nan|\n",
      "|            3.6|     2|                   1|             430|           3|           980|     2|              hockey|\n",
      "+---------------+------+--------------------+----------------+------------+--------------+------+--------------------+\n",
      "only showing top 20 rows\n",
      "\n"
     ]
    }
   ],
   "source": [
    "#seleting specific columns :\n",
    "\n",
    "df = data.select('GPA', 'Gender','breakfast', 'calories_chicken', 'calories_day', 'calories_scone' ,'coffee', 'type_sports')\n",
    "df.show()"
   ]
  },
  {
   "cell_type": "markdown",
   "metadata": {
    "id": "51e99b32"
   },
   "source": [
    "#### Handling missing nan -> replace with 0 for numerical columns and Others in categorical columns"
   ]
  },
  {
   "cell_type": "code",
   "execution_count": 40,
   "metadata": {
    "id": "45dd5aab",
    "outputId": "0533db6b-01f2-45be-b605-20b07806c4e0"
   },
   "outputs": [
    {
     "name": "stdout",
     "output_type": "stream",
     "text": [
      "+---+------+---------+----------------+------------+--------------+------+-----------+\n",
      "|GPA|Gender|breakfast|calories_chicken|calories_day|calories_scone|coffee|type_sports|\n",
      "+---+------+---------+----------------+------------+--------------+------+-----------+\n",
      "|  2|     5|        6|               5|          24|             7|     6|         39|\n",
      "+---+------+---------+----------------+------------+--------------+------+-----------+\n",
      "\n"
     ]
    }
   ],
   "source": [
    "# Viewing the no of null values:\n",
    "\n",
    "from pyspark.sql.functions import col,isnan, when, count\n",
    "df.select([count(when(isnan(c) | col(c).isNull(), c)).alias(c) for c in df.columns]).show()"
   ]
  },
  {
   "cell_type": "code",
   "execution_count": 41,
   "metadata": {
    "id": "a66980aa"
   },
   "outputs": [],
   "source": [
    "# Replacing NAN value with '0':\n",
    "\n",
    "import pyspark.sql.functions as F\n",
    "columns = df.columns\n",
    "for column in columns:\n",
    "    df = df.withColumn(column,F.when(F.isnan(F.col(column)),0).otherwise(F.col(column)))\n"
   ]
  },
  {
   "cell_type": "code",
   "execution_count": 42,
   "metadata": {
    "id": "2342d77e",
    "outputId": "9e7600da-9ceb-4681-ea73-bea082df5d31"
   },
   "outputs": [
    {
     "name": "stdout",
     "output_type": "stream",
     "text": [
      "+---------------+------+--------------------+----------------+------------+--------------+------+--------------------+\n",
      "|            GPA|Gender|           breakfast|calories_chicken|calories_day|calories_scone|coffee|         type_sports|\n",
      "+---------------+------+--------------------+----------------+------------+--------------+------+--------------------+\n",
      "|            2.4|     2|                   1|             430|           0|           315|     1|          car racing|\n",
      "|          3.654|     1|                   1|             610|           3|           420|     2|         Basketball |\n",
      "|            3.3|     1|                   1|             720|           4|           420|     2|                 500|\n",
      "|            3.2|     1|                   1|             430|           3|           420|     2|                null|\n",
      "| Stuffed Shells|  null|                null|            null|        null|          null|  null|                null|\n",
      "|Homemade Chili\"|     4|Special Education...|               2|           1|             1|     2|                null|\n",
      "|            3.5|     1|                   1|             720|           2|           420|     2|            Softball|\n",
      "|           2.25|     1|                   1|             610|           3|           980|     2|               None.|\n",
      "|            3.8|     2|                   1|             610|           3|           420|     2|              soccer|\n",
      "|            3.3|     1|                   1|             720|           3|           420|     1|                none|\n",
      "|            3.3|     1|                   1|             430|           0|           420|     1|                none|\n",
      "|            3.3|     1|                   1|             430|           3|           315|     2|        field hockey|\n",
      "|            3.5|     1|                   1|             610|           3|           980|     2|              soccer|\n",
      "|          3.904|     1|                   1|             720|           4|           420|     2|             Running|\n",
      "|            3.4|     2|                   1|             430|           3|           420|     2|Soccer and basket...|\n",
      "|            3.6|     1|                   1|             610|           3|           420|     2|intramural volley...|\n",
      "|            3.1|     2|                   1|             610|           3|           420|     2|              Hockey|\n",
      "|              0|     2|                   2|             430|           0|           980|     2|              Hockey|\n",
      "|              4|     1|                   1|             265|           3|           420|     1|                   0|\n",
      "|            3.6|     2|                   1|             430|           3|           980|     2|              hockey|\n",
      "+---------------+------+--------------------+----------------+------------+--------------+------+--------------------+\n",
      "only showing top 20 rows\n",
      "\n",
      "None\n"
     ]
    }
   ],
   "source": [
    "# Viewing the data after replacing the values:\n",
    "\n",
    "print(df.show())"
   ]
  },
  {
   "cell_type": "markdown",
   "metadata": {
    "id": "898802bf"
   },
   "source": [
    " #### Replace - Gender -> 1 to M and 2 to F"
   ]
  },
  {
   "cell_type": "code",
   "execution_count": 43,
   "metadata": {
    "id": "886c8b3a",
    "outputId": "1a7d178d-d609-4357-fd18-12c81578fdc5"
   },
   "outputs": [
    {
     "name": "stdout",
     "output_type": "stream",
     "text": [
      "+---------------+------+--------------------+----------------+------------+--------------+------+--------------------+\n",
      "|            GPA|Gender|           breakfast|calories_chicken|calories_day|calories_scone|coffee|         type_sports|\n",
      "+---------------+------+--------------------+----------------+------------+--------------+------+--------------------+\n",
      "|            2.4|     F|                   1|             430|           0|           315|     1|          car racing|\n",
      "|          3.654|     M|                   1|             610|           3|           420|     2|         Basketball |\n",
      "|            3.3|     M|                   1|             720|           4|           420|     2|                 500|\n",
      "|            3.2|     M|                   1|             430|           3|           420|     2|                null|\n",
      "| Stuffed Shells|  null|                null|            null|        null|          null|  null|                null|\n",
      "|Homemade Chili\"|     4|Special Education...|               2|           1|             1|     2|                null|\n",
      "|            3.5|     M|                   1|             720|           2|           420|     2|            Softball|\n",
      "|           2.25|     M|                   1|             610|           3|           980|     2|               None.|\n",
      "|            3.8|     F|                   1|             610|           3|           420|     2|              soccer|\n",
      "|            3.3|     M|                   1|             720|           3|           420|     1|                none|\n",
      "|            3.3|     M|                   1|             430|           0|           420|     1|                none|\n",
      "|            3.3|     M|                   1|             430|           3|           315|     2|        field hockey|\n",
      "|            3.5|     M|                   1|             610|           3|           980|     2|              soccer|\n",
      "|          3.904|     M|                   1|             720|           4|           420|     2|             Running|\n",
      "|            3.4|     F|                   1|             430|           3|           420|     2|Soccer and basket...|\n",
      "|            3.6|     M|                   1|             610|           3|           420|     2|intramural volley...|\n",
      "|            3.1|     F|                   1|             610|           3|           420|     2|              Hockey|\n",
      "|              0|     F|                   2|             430|           0|           980|     2|              Hockey|\n",
      "|              4|     M|                   1|             265|           3|           420|     1|                   0|\n",
      "|            3.6|     F|                   1|             430|           3|           980|     2|              hockey|\n",
      "+---------------+------+--------------------+----------------+------------+--------------+------+--------------------+\n",
      "only showing top 20 rows\n",
      "\n"
     ]
    }
   ],
   "source": [
    "# Repacing the values:\n",
    "\n",
    "from pyspark.sql.functions import regexp_replace, when\n",
    "df = df.withColumn('Gender', regexp_replace('Gender', '1', 'M'))\n",
    "df = df.withColumn('Gender', regexp_replace('Gender', '2', 'F'))\n",
    "df.show()"
   ]
  },
  {
   "cell_type": "markdown",
   "metadata": {},
   "source": [
    "#### Update : Normalize GPA column - normalized  v = v - min(GPA)/max(GPA)-min(GPA)"
   ]
  },
  {
   "cell_type": "code",
   "execution_count": 44,
   "metadata": {
    "id": "5e932767"
   },
   "outputs": [],
   "source": [
    "# importing the values:\n",
    "import os\n",
    "import pyspark\n",
    "from pyspark.sql import SparkSession\n",
    "from datetime import datetime, date\n",
    "import pandas as pd\n",
    "from pyspark.sql import Row\n",
    "from pyspark.sql.functions import upper,pandas_udf,PandasUDFType,udf\n",
    "from pyspark.sql.types import *\n",
    "from pyspark.sql.functions import min, max, lit, first\n",
    "from pyspark.sql import Row\n",
    "from pyspark.sql.functions import col, greatest\n",
    "from pyspark.sql.functions import least"
   ]
  },
  {
   "cell_type": "code",
   "execution_count": 45,
   "metadata": {
    "id": "0735b2d2",
    "outputId": "87bc4a92-45dd-4cbc-d725-d9b23a5aa670"
   },
   "outputs": [
    {
     "name": "stdout",
     "output_type": "stream",
     "text": [
      "+---------------+------+--------------------+----------------+------------+--------------+------+--------------------+---------------+\n",
      "|            GPA|Gender|           breakfast|calories_chicken|calories_day|calories_scone|coffee|         type_sports|              v|\n",
      "+---------------+------+--------------------+----------------+------------+--------------+------+--------------------+---------------+\n",
      "|            2.4|     F|                   1|             430|           0|           315|     1|          car racing|            2.4|\n",
      "|          3.654|     M|                   1|             610|           3|           420|     2|         Basketball |          3.654|\n",
      "|            3.3|     M|                   1|             720|           4|           420|     2|                 500|            3.3|\n",
      "|            3.2|     M|                   1|             430|           3|           420|     2|                null|            3.2|\n",
      "| Stuffed Shells|  null|                null|            null|        null|          null|  null|                null| Stuffed Shells|\n",
      "|Homemade Chili\"|     4|Special Education...|               2|           1|             1|     2|                null|Homemade Chili\"|\n",
      "|            3.5|     M|                   1|             720|           2|           420|     2|            Softball|            3.5|\n",
      "|           2.25|     M|                   1|             610|           3|           980|     2|               None.|           2.25|\n",
      "|            3.8|     F|                   1|             610|           3|           420|     2|              soccer|            3.8|\n",
      "|            3.3|     M|                   1|             720|           3|           420|     1|                none|            3.3|\n",
      "|            3.3|     M|                   1|             430|           0|           420|     1|                none|            3.3|\n",
      "|            3.3|     M|                   1|             430|           3|           315|     2|        field hockey|            3.3|\n",
      "|            3.5|     M|                   1|             610|           3|           980|     2|              soccer|            3.5|\n",
      "|          3.904|     M|                   1|             720|           4|           420|     2|             Running|          3.904|\n",
      "|            3.4|     F|                   1|             430|           3|           420|     2|Soccer and basket...|            3.4|\n",
      "|            3.6|     M|                   1|             610|           3|           420|     2|intramural volley...|            3.6|\n",
      "|            3.1|     F|                   1|             610|           3|           420|     2|              Hockey|            3.1|\n",
      "|              0|     F|                   2|             430|           0|           980|     2|              Hockey|              0|\n",
      "|              4|     M|                   1|             265|           3|           420|     1|                   0|              4|\n",
      "|            3.6|     F|                   1|             430|           3|           980|     2|              hockey|            3.6|\n",
      "+---------------+------+--------------------+----------------+------------+--------------+------+--------------------+---------------+\n",
      "only showing top 20 rows\n",
      "\n"
     ]
    }
   ],
   "source": [
    "# Adding Column 'v'\n",
    "df = df.withColumn('v', df.GPA)\n",
    "df.show()"
   ]
  },
  {
   "cell_type": "code",
   "execution_count": 46,
   "metadata": {
    "id": "1d9241bd"
   },
   "outputs": [],
   "source": [
    "# Converting Column value to Integer\n",
    "df = df.withColumn(\"GPA\", df[\"GPA\"].cast(LongType()))\n",
    "df = df.withColumn(\"breakfast\", df[\"breakfast\"].cast(LongType()))\n",
    "df = df.withColumn(\"calories_chicken\", df[\"calories_chicken\"].cast(LongType()))\n",
    "df = df.withColumn(\"calories_day\", df[\"calories_day\"].cast(LongType()))\n",
    "df = df.withColumn(\"calories_scone\", df[\"calories_scone\"].cast(LongType()))\n",
    "df = df.withColumn(\"coffee\", df[\"coffee\"].cast(LongType()))\n",
    "df = df.withColumn(\"v\", df.v.cast(\"double\"))"
   ]
  },
  {
   "cell_type": "code",
   "execution_count": 47,
   "metadata": {
    "id": "27e64975",
    "outputId": "571f794a-1e52-4e78-833b-5d2343424220"
   },
   "outputs": [
    {
     "data": {
      "text/plain": [
       "[('GPA', 'bigint'),\n",
       " ('Gender', 'string'),\n",
       " ('breakfast', 'bigint'),\n",
       " ('calories_chicken', 'bigint'),\n",
       " ('calories_day', 'bigint'),\n",
       " ('calories_scone', 'bigint'),\n",
       " ('coffee', 'bigint'),\n",
       " ('type_sports', 'string'),\n",
       " ('v', 'double')]"
      ]
     },
     "execution_count": 47,
     "metadata": {},
     "output_type": "execute_result"
    }
   ],
   "source": [
    "# view the datatype\n",
    "df.dtypes"
   ]
  },
  {
   "cell_type": "code",
   "execution_count": 48,
   "metadata": {
    "id": "8107bddf",
    "outputId": "5bff6ccf-7886-412a-fef1-6d64ec9d2603"
   },
   "outputs": [
    {
     "name": "stdout",
     "output_type": "stream",
     "text": [
      "+----+------+---------+----------------+------------+--------------+------+--------------------+-----+\n",
      "| GPA|Gender|breakfast|calories_chicken|calories_day|calories_scone|coffee|         type_sports|    v|\n",
      "+----+------+---------+----------------+------------+--------------+------+--------------------+-----+\n",
      "|   2|     F|        1|             430|           0|           315|     1|          car racing|  2.4|\n",
      "|   3|     M|        1|             610|           3|           420|     2|         Basketball |3.654|\n",
      "|   3|     M|        1|             720|           4|           420|     2|                 500|  3.3|\n",
      "|   3|     M|        1|             430|           3|           420|     2|                null|  3.2|\n",
      "|null|  null|     null|            null|        null|          null|  null|                null| null|\n",
      "|null|     4|     null|               2|           1|             1|     2|                null| null|\n",
      "|   3|     M|        1|             720|           2|           420|     2|            Softball|  3.5|\n",
      "|   2|     M|        1|             610|           3|           980|     2|               None.| 2.25|\n",
      "|   3|     F|        1|             610|           3|           420|     2|              soccer|  3.8|\n",
      "|   3|     M|        1|             720|           3|           420|     1|                none|  3.3|\n",
      "|   3|     M|        1|             430|           0|           420|     1|                none|  3.3|\n",
      "|   3|     M|        1|             430|           3|           315|     2|        field hockey|  3.3|\n",
      "|   3|     M|        1|             610|           3|           980|     2|              soccer|  3.5|\n",
      "|   3|     M|        1|             720|           4|           420|     2|             Running|3.904|\n",
      "|   3|     F|        1|             430|           3|           420|     2|Soccer and basket...|  3.4|\n",
      "|   3|     M|        1|             610|           3|           420|     2|intramural volley...|  3.6|\n",
      "|   3|     F|        1|             610|           3|           420|     2|              Hockey|  3.1|\n",
      "|   0|     F|        2|             430|           0|           980|     2|              Hockey|  0.0|\n",
      "|   4|     M|        1|             265|           3|           420|     1|                   0|  4.0|\n",
      "|   3|     F|        1|             430|           3|           980|     2|              hockey|  3.6|\n",
      "+----+------+---------+----------------+------------+--------------+------+--------------------+-----+\n",
      "only showing top 20 rows\n",
      "\n"
     ]
    }
   ],
   "source": [
    "df.show()"
   ]
  },
  {
   "cell_type": "code",
   "execution_count": null,
   "metadata": {},
   "outputs": [],
   "source": []
  },
  {
   "cell_type": "code",
   "execution_count": 49,
   "metadata": {
    "id": "574dfafe"
   },
   "outputs": [],
   "source": [
    "# normalizing v = v - min(GPA)/max(GPA)-min(GPA)\n",
    "@pandas_udf(\"GPA long,Gender string,breakfast long,calories_chicken long,calories_day long,calories_scone long,coffee long,type_sports string, v double\", PandasUDFType.GROUPED_MAP)  # doctest: +SKIP\n",
    "def normalize(df):\n",
    "    v = df.v\n",
    "    GPA = df.GPA\n",
    "    return df.assign(v=(v - min(GPA)) / max(GPA)-min(GPA))\n",
    "df = df.groupby(\"GPA\").apply(normalize)"
   ]
  },
  {
   "cell_type": "code",
   "execution_count": null,
   "metadata": {},
   "outputs": [],
   "source": []
  },
  {
   "cell_type": "markdown",
   "metadata": {},
   "source": [
    "####   - Show schema of Data"
   ]
  },
  {
   "cell_type": "code",
   "execution_count": 51,
   "metadata": {
    "id": "602dfd3d",
    "outputId": "2488217d-206a-4703-9429-abf9d42295e6"
   },
   "outputs": [
    {
     "name": "stdout",
     "output_type": "stream",
     "text": [
      "root\n",
      " |-- GPA: long (nullable = true)\n",
      " |-- Gender: string (nullable = true)\n",
      " |-- breakfast: long (nullable = true)\n",
      " |-- calories_chicken: long (nullable = true)\n",
      " |-- calories_day: long (nullable = true)\n",
      " |-- calories_scone: long (nullable = true)\n",
      " |-- coffee: long (nullable = true)\n",
      " |-- type_sports: string (nullable = true)\n",
      " |-- v: double (nullable = true)\n",
      "\n"
     ]
    }
   ],
   "source": [
    "# Schema\n",
    "df.printSchema()"
   ]
  },
  {
   "cell_type": "markdown",
   "metadata": {},
   "source": [
    "#### - Showing all dataframe"
   ]
  },
  {
   "cell_type": "code",
   "execution_count": null,
   "metadata": {
    "id": "180dea2c",
    "outputId": "16627870-b42f-4e2e-f646-015fb6ea98f5"
   },
   "outputs": [
    {
     "name": "stdout",
     "output_type": "stream",
     "text": [
      "+----+------+---------+----------------+------------+--------------+------+------------------+------+\n",
      "| GPA|Gender|breakfast|calories_chicken|calories_day|calories_scone|coffee|       type_sports|     v|\n",
      "+----+------+---------+----------------+------------+--------------+------+------------------+------+\n",
      "|null|     M|        1|             610|           2|           980|     2|                 0|  null|\n",
      "|null|     F|        1|             720|           4|           420|     2|          baseball|  null|\n",
      "|null|     M|        1|             720|           3|           420|     2|None at the moment|  null|\n",
      "|   0|     M|        1|             610|           4|           420|     2|                 0|  null|\n",
      "|   0|     F|        2|             430|           0|           980|     2|            Hockey|  null|\n",
      "|   2|     F|        1|             430|           0|           315|     1|        car racing|  -1.8|\n",
      "|   2|     M|        1|             610|           3|           980|     2|             None.|-1.875|\n",
      "|   2|     F|        1|             430|           2|           420|     2|        basketball|  -1.9|\n",
      "|   2|     M|        2|             720|           3|           420|     2|        Ice hockey|  -1.6|\n",
      "|   2|     M|        1|             720|           3|           420|     1|                 0|  -1.6|\n",
      "|   2|     M|        1|             720|           4|           980|     2|                 0| -1.55|\n",
      "|   2|     F|        1|             430|           0|           980|     2|wrestling & rowing|  -1.6|\n",
      "|   2|     M|        1|             610|           4|           980|     2|          softball|  -1.6|\n",
      "|   2|     M|        1|             610|           4|           980|     2|           rowing |  -1.7|\n",
      "|   2|     F|        2|             265|           2|           420|     1|                 0|-1.645|\n",
      "|   2|     M|        1|             265|           3|           315|     2|    None right now|  -1.7|\n",
      "|   2|     F|        1|             265|           2|           980|     2|                 0| -1.55|\n",
      "|   2|     F|        1|             610|           3|           315|     2|Tennis, Basketball|  -1.6|\n",
      "|   3|     M|        1|             610|           3|           420|     2|       Basketball |-2.782|\n",
      "|   3|     M|        1|             720|           4|           420|     2|              none|  -2.9|\n",
      "+----+------+---------+----------------+------------+--------------+------+------------------+------+\n",
      "only showing top 20 rows\n",
      "\n"
     ]
    }
   ],
   "source": [
    "# showing dataframe\n",
    "df.show()"
   ]
  },
  {
   "cell_type": "markdown",
   "metadata": {},
   "source": [
    "#### - GroupBy type_sport and sum of cofee"
   ]
  },
  {
   "cell_type": "code",
   "execution_count": null,
   "metadata": {
    "id": "a089df93",
    "outputId": "15325793-3246-404a-d8fc-816117fa1a12"
   },
   "outputs": [
    {
     "data": {
      "text/plain": [
       "[Row(type_sports='hockey', sum(coffee)=4),\n",
       " Row(type_sports='Rec Volleyball', sum(coffee)=2),\n",
       " Row(type_sports='Tennis', sum(coffee)=2),\n",
       " Row(type_sports='Ice Hockey', sum(coffee)=2),\n",
       " Row(type_sports=' None', sum(coffee)=2),\n",
       " Row(type_sports='tennis soccer gym', sum(coffee)=1),\n",
       " Row(type_sports='Volleyball, Track', sum(coffee)=2),\n",
       " Row(type_sports='none organized', sum(coffee)=2),\n",
       " Row(type_sports='Softball', sum(coffee)=6),\n",
       " Row(type_sports='None', sum(coffee)=8),\n",
       " Row(type_sports='horse back riding', sum(coffee)=1),\n",
       " Row(type_sports='none', sum(coffee)=13),\n",
       " Row(type_sports='0', sum(coffee)=38),\n",
       " Row(type_sports='basketball ', sum(coffee)=2),\n",
       " Row(type_sports='Running ', sum(coffee)=2),\n",
       " Row(type_sports='wrestling ', sum(coffee)=1),\n",
       " Row(type_sports='dancing ', sum(coffee)=1),\n",
       " Row(type_sports='None right now', sum(coffee)=2),\n",
       " Row(type_sports='Marching Band', sum(coffee)=2),\n",
       " Row(type_sports='Basketball ', sum(coffee)=3),\n",
       " Row(type_sports='car racing', sum(coffee)=1),\n",
       " Row(type_sports='no particular engagement ', sum(coffee)=1),\n",
       " Row(type_sports='I used to play softball ', sum(coffee)=1),\n",
       " Row(type_sports='none ', sum(coffee)=2),\n",
       " Row(type_sports='Ice hockey', sum(coffee)=4),\n",
       " Row(type_sports='Collegiate Water Polo', sum(coffee)=2),\n",
       " Row(type_sports='basketball', sum(coffee)=2),\n",
       " Row(type_sports='competitive skiing', sum(coffee)=2),\n",
       " Row(type_sports='wrestling & rowing', sum(coffee)=2),\n",
       " Row(type_sports='soccer ', sum(coffee)=1),\n",
       " Row(type_sports='Recreational Basketball, Equestrian Team', sum(coffee)=1),\n",
       " Row(type_sports='Skiing', sum(coffee)=2),\n",
       " Row(type_sports='Fotball', sum(coffee)=2),\n",
       " Row(type_sports='Softball ', sum(coffee)=2),\n",
       " Row(type_sports='hockey, soccer, golf', sum(coffee)=2),\n",
       " Row(type_sports='wrestling', sum(coffee)=2),\n",
       " Row(type_sports='soccer', sum(coffee)=5),\n",
       " Row(type_sports='Wrestling', sum(coffee)=3),\n",
       " Row(type_sports='Tennis, Basketball', sum(coffee)=2),\n",
       " Row(type_sports='baseball', sum(coffee)=2),\n",
       " Row(type_sports='Running', sum(coffee)=2),\n",
       " Row(type_sports='softball', sum(coffee)=7),\n",
       " Row(type_sports='field hockey', sum(coffee)=3),\n",
       " Row(type_sports='None at the moment', sum(coffee)=2),\n",
       " Row(type_sports='intramural volleyball', sum(coffee)=2),\n",
       " Row(type_sports='rowing ', sum(coffee)=2),\n",
       " Row(type_sports='softball and basketball', sum(coffee)=1),\n",
       " Row(type_sports='Soccer', sum(coffee)=8),\n",
       " Row(type_sports='Rowing, Running, and Cycling', sum(coffee)=2),\n",
       " Row(type_sports='Volleyball', sum(coffee)=4),\n",
       " Row(type_sports='Soccer and basketball ', sum(coffee)=2),\n",
       " Row(type_sports='Gaelic Football', sum(coffee)=2),\n",
       " Row(type_sports='crew', sum(coffee)=2),\n",
       " Row(type_sports='None.', sum(coffee)=2),\n",
       " Row(type_sports='Dancing', sum(coffee)=2),\n",
       " Row(type_sports='volleyball', sum(coffee)=2),\n",
       " Row(type_sports='Hockey', sum(coffee)=12),\n",
       " Row(type_sports='Football, Basketball, Volleyball, Golf', sum(coffee)=2),\n",
       " Row(type_sports='Lacrosse', sum(coffee)=4),\n",
       " Row(type_sports='skiing ', sum(coffee)=2),\n",
       " Row(type_sports='Water polo and running ', sum(coffee)=2),\n",
       " Row(type_sports='snowboarding', sum(coffee)=2),\n",
       " Row(type_sports='volleyball, lacrosse', sum(coffee)=2),\n",
       " Row(type_sports='When I can, rarely though play pool, darts, and basketball.', sum(coffee)=2),\n",
       " Row(type_sports='I danced in high school', sum(coffee)=2),\n",
       " Row(type_sports=\"No, I don't play sport.\", sum(coffee)=2),\n",
       " Row(type_sports='Lacrosse ', sum(coffee)=4),\n",
       " Row(type_sports='tennis  ', sum(coffee)=1)]"
      ]
     },
     "execution_count": 10,
     "metadata": {},
     "output_type": "execute_result"
    }
   ],
   "source": [
    "#Grouping the data value coffee by type_sports\n",
    "df.groupBy('type_sports').agg({'coffee': 'sum'}).collect()"
   ]
  },
  {
   "cell_type": "markdown",
   "metadata": {},
   "source": [
    "### iii.Load: Save analysis report"
   ]
  },
  {
   "cell_type": "code",
   "execution_count": null,
   "metadata": {
    "id": "ebedb99f"
   },
   "outputs": [],
   "source": [
    "# Saving the file into CSV\n",
    "df.write.format('csv').option('header',True).mode('overwrite').save('result.csv')"
   ]
  }
 ],
 "metadata": {
  "colab": {
   "collapsed_sections": [],
   "name": "Spark-Assignement-Team5.ipynb",
   "provenance": []
  },
  "kernelspec": {
   "display_name": "Python 3",
   "language": "python",
   "name": "python3"
  },
  "language_info": {
   "codemirror_mode": {
    "name": "ipython",
    "version": 3
   },
   "file_extension": ".py",
   "mimetype": "text/x-python",
   "name": "python",
   "nbconvert_exporter": "python",
   "pygments_lexer": "ipython3",
   "version": "3.8.3"
  }
 },
 "nbformat": 4,
 "nbformat_minor": 5
}
